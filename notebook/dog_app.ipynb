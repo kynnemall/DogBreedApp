{
 "cells": [
  {
   "cell_type": "markdown",
   "metadata": {},
   "source": [
    "# Data Scientist Nanodegree\n",
    "\n",
    "## Convolutional Neural Networks\n",
    "\n",
    "## Project: Write an Algorithm for a Dog Identification App \n",
    "\n",
    "\n",
    "This notebook walks you through one of the most popular Udacity projects across machine learning and artificial intellegence nanodegree programs.  The goal is to classify images of dogs according to their breed.  \n",
    "\n",
    "If you are looking for a more guided capstone project related to deep learning and convolutional neural networks, this might be just it.  Notice that even if you follow the notebook to creating your classifier, you must still create a blog post or deploy an application to fulfill the requirements of the capstone project.\n",
    "\n",
    "Also notice, you may be able to use only parts of this notebook (for example certain coding portions or the data) without completing all parts and still meet all requirements of the capstone project.\n",
    "\n",
    "---\n",
    "\n",
    "In this notebook, some template code has already been provided for you, and you will need to implement additional functionality to successfully complete this project. You will not need to modify the included code beyond what is requested. Sections that begin with **'(IMPLEMENTATION)'** in the header indicate that the following block of code will require additional functionality which you must provide. Instructions will be provided for each section, and the specifics of the implementation are marked in the code block with a 'TODO' statement. Please be sure to read the instructions carefully! \n",
    "\n",
    "In addition to implementing code, there will be questions that you must answer which relate to the project and your implementation. Each section where you will answer a question is preceded by a **'Question X'** header. Carefully read each question and provide thorough answers in the following text boxes that begin with **'Answer:'**. Your project submission will be evaluated based on your answers to each of the questions and the implementation you provide.\n",
    "\n",
    ">**Note:** Code and Markdown cells can be executed using the **Shift + Enter** keyboard shortcut.  Markdown cells can be edited by double-clicking the cell to enter edit mode.\n",
    "\n",
    "The rubric contains _optional_ \"Stand Out Suggestions\" for enhancing the project beyond the minimum requirements. If you decide to pursue the \"Stand Out Suggestions\", you should include the code in this IPython notebook.\n",
    "\n",
    "\n",
    "\n",
    "---\n",
    "### Why We're Here \n",
    "\n",
    "In this notebook, you will make the first steps towards developing an algorithm that could be used as part of a mobile or web app.  At the end of this project, your code will accept any user-supplied image as input.  If a dog is detected in the image, it will provide an estimate of the dog's breed.  If a human is detected, it will provide an estimate of the dog breed that is most resembling.  The image below displays potential sample output of your finished project (... but we expect that each student's algorithm will behave differently!). \n",
    "\n",
    "![Sample Dog Output](images/sample_dog_output.png)\n",
    "\n",
    "In this real-world setting, you will need to piece together a series of models to perform different tasks; for instance, the algorithm that detects humans in an image will be different from the CNN that infers dog breed.  There are many points of possible failure, and no perfect algorithm exists.  Your imperfect solution will nonetheless create a fun user experience!\n",
    "\n",
    "### The Road Ahead\n",
    "\n",
    "We break the notebook into separate steps.  Feel free to use the links below to navigate the notebook.\n",
    "\n",
    "* [Step 0](#step0): Import Datasets\n",
    "* [Step 1](#step1): Detect Humans\n",
    "* [Step 2](#step2): Detect Dogs\n",
    "* [Step 3](#step3): Create a CNN to Classify Dog Breeds (from Scratch)\n",
    "* [Step 4](#step4): Use a CNN to Classify Dog Breeds (using Transfer Learning)\n",
    "* [Step 5](#step5): Create a CNN to Classify Dog Breeds (using Transfer Learning)\n",
    "* [Step 6](#step6): Write your Algorithm\n",
    "* [Step 7](#step7): Test Your Algorithm\n",
    "\n",
    "---\n",
    "<a id='step0'></a>\n",
    "## Step 0: Import Datasets\n",
    "\n",
    "### Import Dog Dataset\n",
    "\n",
    "In the code cell below, we import a dataset of dog images.  We populate a few variables through the use of the `load_files` function from the scikit-learn library:\n",
    "- `train_files`, `valid_files`, `test_files` - numpy arrays containing file paths to images\n",
    "- `train_targets`, `valid_targets`, `test_targets` - numpy arrays containing onehot-encoded classification labels \n",
    "- `dog_names` - list of string-valued dog breed names for translating labels"
   ]
  },
  {
   "cell_type": "code",
   "execution_count": 1,
   "metadata": {
    "scrolled": true
   },
   "outputs": [
    {
     "name": "stderr",
     "output_type": "stream",
     "text": [
      "Using TensorFlow backend.\n"
     ]
    },
    {
     "name": "stdout",
     "output_type": "stream",
     "text": [
      "There are 133 total dog categories.\n",
      "There are 8351 total dog images.\n",
      "\n",
      "There are 6680 training dog images.\n",
      "There are 835 validation dog images.\n",
      "There are 836 test dog images.\n"
     ]
    }
   ],
   "source": [
    "from sklearn.datasets import load_files       \n",
    "from keras.utils import np_utils\n",
    "import numpy as np\n",
    "from glob import glob\n",
    "\n",
    "# define function to load train, test, and validation datasets\n",
    "def load_dataset(path):\n",
    "    data = load_files(path)\n",
    "    dog_files = np.array(data['filenames'])\n",
    "    dog_targets = np_utils.to_categorical(np.array(data['target']), 133)\n",
    "    return dog_files, dog_targets\n",
    "\n",
    "# load train, test, and validation datasets\n",
    "train_files, train_targets = load_dataset('../../../data/dog_images/train')\n",
    "valid_files, valid_targets = load_dataset('../../../data/dog_images/valid')\n",
    "test_files, test_targets = load_dataset('../../../data/dog_images/test')\n",
    "\n",
    "# load list of dog names\n",
    "dog_names = [item[20:-1] for item in sorted(glob(\"../../../data/dog_images/train/*/\"))]\n",
    "\n",
    "# print statistics about the dataset\n",
    "print('There are %d total dog categories.' % len(dog_names))\n",
    "print('There are %s total dog images.\\n' % len(np.hstack([train_files, valid_files, test_files])))\n",
    "print('There are %d training dog images.' % len(train_files))\n",
    "print('There are %d validation dog images.' % len(valid_files))\n",
    "print('There are %d test dog images.'% len(test_files))"
   ]
  },
  {
   "cell_type": "markdown",
   "metadata": {},
   "source": [
    "### Import Human Dataset\n",
    "\n",
    "In the code cell below, we import a dataset of human images, where the file paths are stored in the numpy array `human_files`."
   ]
  },
  {
   "cell_type": "code",
   "execution_count": 2,
   "metadata": {
    "scrolled": true
   },
   "outputs": [
    {
     "name": "stdout",
     "output_type": "stream",
     "text": [
      "There are 13233 total human images.\n"
     ]
    }
   ],
   "source": [
    "import random\n",
    "random.seed(8675309)\n",
    "\n",
    "# load filenames in shuffled human dataset\n",
    "human_files = np.array(glob(\"../../../data/lfw/*/*\"))\n",
    "random.shuffle(human_files)\n",
    "\n",
    "# print statistics about the dataset\n",
    "print('There are %d total human images.' % len(human_files))"
   ]
  },
  {
   "cell_type": "markdown",
   "metadata": {},
   "source": [
    "---\n",
    "<a id='step1'></a>\n",
    "## Step 1: Detect Humans\n",
    "\n",
    "We use OpenCV's implementation of [Haar feature-based cascade classifiers](http://docs.opencv.org/trunk/d7/d8b/tutorial_py_face_detection.html) to detect human faces in images.  OpenCV provides many pre-trained face detectors, stored as XML files on [github](https://github.com/opencv/opencv/tree/master/data/haarcascades).  We have downloaded one of these detectors and stored it in the `haarcascades` directory.\n",
    "\n",
    "In the next code cell, we demonstrate how to use this detector to find human faces in a sample image."
   ]
  },
  {
   "cell_type": "code",
   "execution_count": 3,
   "metadata": {
    "scrolled": true
   },
   "outputs": [
    {
     "name": "stdout",
     "output_type": "stream",
     "text": [
      "Number of faces detected: 1\n"
     ]
    },
    {
     "data": {
      "image/png": "[encoded data removed]",
      "text/plain": [
       "<matplotlib.figure.Figure at 0x7fb3dae7de48>"
      ]
     },
     "metadata": {
      "needs_background": "light"
     },
     "output_type": "display_data"
    }
   ],
   "source": [
    "import cv2                \n",
    "import matplotlib.pyplot as plt                        \n",
    "%matplotlib inline                               \n",
    "\n",
    "# extract pre-trained face detector\n",
    "face_cascade = cv2.CascadeClassifier('haarcascades/haarcascade_frontalface_alt.xml')\n",
    "\n",
    "# load color (BGR) image\n",
    "img = cv2.imread(human_files[3])\n",
    "# convert BGR image to grayscale\n",
    "gray = cv2.cvtColor(img, cv2.COLOR_BGR2GRAY)\n",
    "\n",
    "# find faces in image\n",
    "faces = face_cascade.detectMultiScale(gray)\n",
    "\n",
    "# print number of faces detected in the image\n",
    "print('Number of faces detected:', len(faces))\n",
    "\n",
    "# get bounding box for each detected face\n",
    "for (x,y,w,h) in faces:\n",
    "    # add bounding box to color image\n",
    "    cv2.rectangle(img,(x,y),(x+w,y+h),(255,0,0),2)\n",
    "    \n",
    "# convert BGR image to RGB for plotting\n",
    "cv_rgb = cv2.cvtColor(img, cv2.COLOR_BGR2RGB)\n",
    "\n",
    "# display the image, along with bounding box\n",
    "plt.imshow(cv_rgb)\n",
    "plt.show()"
   ]
  },
  {
   "cell_type": "markdown",
   "metadata": {},
   "source": [
    "Before using any of the face detectors, it is standard procedure to convert the images to grayscale.  The `detectMultiScale` function executes the classifier stored in `face_cascade` and takes the grayscale image as a parameter.  \n",
    "\n",
    "In the above code, `faces` is a numpy array of detected faces, where each row corresponds to a detected face.  Each detected face is a 1D array with four entries that specifies the bounding box of the detected face.  The first two entries in the array (extracted in the above code as `x` and `y`) specify the horizontal and vertical positions of the top left corner of the bounding box.  The last two entries in the array (extracted here as `w` and `h`) specify the width and height of the box.\n",
    "\n",
    "### Write a Human Face Detector\n",
    "\n",
    "We can use this procedure to write a function that returns `True` if a human face is detected in an image and `False` otherwise.  This function, aptly named `face_detector`, takes a string-valued file path to an image as input and appears in the code block below."
   ]
  },
  {
   "cell_type": "code",
   "execution_count": 4,
   "metadata": {
    "scrolled": true
   },
   "outputs": [],
   "source": [
    "# returns \"True\" if face is detected in image stored at img_path\n",
    "def face_detector(img_path):\n",
    "    img = cv2.imread(img_path)\n",
    "    gray = cv2.cvtColor(img, cv2.COLOR_BGR2GRAY)\n",
    "    faces = face_cascade.detectMultiScale(gray)\n",
    "    return len(faces) > 0"
   ]
  },
  {
   "cell_type": "markdown",
   "metadata": {},
   "source": [
    "### (IMPLEMENTATION) Assess the Human Face Detector\n",
    "\n",
    "__Question 1:__ Use the code cell below to test the performance of the `face_detector` function.  \n",
    "- What percentage of the first 100 images in `human_files` have a detected human face?  \n",
    "- What percentage of the first 100 images in `dog_files` have a detected human face? \n",
    "\n",
    "Ideally, we would like 100% of human images with a detected face and 0% of dog images with a detected face.  You will see that our algorithm falls short of this goal, but still gives acceptable performance.  We extract the file paths for the first 100 images from each of the datasets and store them in the numpy arrays `human_files_short` and `dog_files_short`.\n",
    "\n",
    "__Answer:__ "
   ]
  },
  {
   "cell_type": "code",
   "execution_count": 5,
   "metadata": {
    "scrolled": true
   },
   "outputs": [
    {
     "name": "stderr",
     "output_type": "stream",
     "text": [
      "100%|██████████| 100/100 [00:02<00:00, 35.55it/s]\n",
      "100%|██████████| 100/100 [00:14<00:00,  6.70it/s]"
     ]
    },
    {
     "name": "stdout",
     "output_type": "stream",
     "text": [
      "Face detector found 100 faces in 100 human images\n",
      "Face detector found 11 faces in 100 dog images\n"
     ]
    },
    {
     "name": "stderr",
     "output_type": "stream",
     "text": [
      "\n"
     ]
    }
   ],
   "source": [
    "human_files_short = human_files[:100]\n",
    "dog_files_short = train_files[:100]\n",
    "# Do NOT modify the code above this line.\n",
    "\n",
    "## TODO: Test the performance of the face_detector algorithm \n",
    "## on the images in human_files_short and dog_files_short.\n",
    "from tqdm import tqdm\n",
    "\n",
    "human_res = [face_detector(i) for i in tqdm(human_files_short)]\n",
    "dog_res = [face_detector(i) for i in tqdm(dog_files_short)]\n",
    "\n",
    "print(f\"Face detector found {sum(human_res)} faces in 100 human images\")\n",
    "print(f\"Face detector found {sum(dog_res)} faces in 100 dog images\")"
   ]
  },
  {
   "cell_type": "markdown",
   "metadata": {},
   "source": [
    "__Question 2:__ This algorithmic choice necessitates that we communicate to the user that we accept human images only when they provide a clear view of a face (otherwise, we risk having unneccessarily frustrated users!). In your opinion, is this a reasonable expectation to pose on the user? If not, can you think of a way to detect humans in images that does not necessitate an image with a clearly presented face?\n",
    "\n",
    "__Answer:__ It is a reasonable expectation to pose on the user once they are informed that the algorithm requires a complete human face to correctly function. A deep learning model could be trained to detect images containing partial faces, but special training data would be required to adequately detect a wide variety of potential images.\n",
    "\n",
    "We suggest the face detector from OpenCV as a potential way to detect human images in your algorithm, but you are free to explore other approaches, especially approaches that make use of deep learning :).  Please use the code cell below to design and test your own face detection algorithm.  If you decide to pursue this _optional_ task, report performance on each of the datasets."
   ]
  },
  {
   "cell_type": "code",
   "execution_count": 6,
   "metadata": {
    "scrolled": true
   },
   "outputs": [
    {
     "name": "stdout",
     "output_type": "stream",
     "text": [
      "Using haarcascade_frontalface_alt.xml\n",
      "Face detector found 100 faces in 100 human images\n",
      "Face detector found 11 faces in 100 dog images\n",
      "Using haarcascade_frontalface_alt2.xml\n",
      "Face detector found 100 faces in 100 human images\n",
      "Face detector found 20 faces in 100 dog images\n",
      "Using haarcascade_frontalface_alt_tree.xml\n",
      "Face detector found 56 faces in 100 human images\n",
      "Face detector found 1 faces in 100 dog images\n"
     ]
    }
   ],
   "source": [
    "## (Optional) TODO: Report the performance of another  \n",
    "## face detection algorithm on the LFW dataset\n",
    "### Feel free to use as many code cells as needed.\n",
    "\n",
    "def custom_face_detector(img_path,\n",
    "                         cascade_path='haarcascades/haarcascade_frontalface_alt.xml'):\n",
    "    \"\"\"\n",
    "    img_path: path to RGB image\n",
    "    cascade_path: path to the xml file for the haar cascade\n",
    "    \"\"\"\n",
    "    img = cv2.imread(img_path)\n",
    "    gray = cv2.cvtColor(img, cv2.COLOR_BGR2GRAY)\n",
    "    face_cascade = cv2.CascadeClassifier(cascade_path)\n",
    "    faces = face_cascade.detectMultiScale(gray)\n",
    "    return len(faces) > 0\n",
    "\n",
    "for cascade in [\"haarcascade_frontalface_alt.xml\",\n",
    "                \"haarcascade_frontalface_alt2.xml\",\n",
    "                \"haarcascade_frontalface_alt_tree.xml\"]:\n",
    "    print(f\"Using {cascade}\")\n",
    "    human_res = [custom_face_detector(i, f\"haarcascades/{cascade}\") for i in human_files_short]\n",
    "    dog_res = [custom_face_detector(i, f\"haarcascades/{cascade}\") for i in dog_files_short]\n",
    "    print(f\"Face detector found {sum(human_res)} faces in 100 human images\")\n",
    "    print(f\"Face detector found {sum(dog_res)} faces in 100 dog images\")"
   ]
  },
  {
   "cell_type": "markdown",
   "metadata": {},
   "source": [
    "Not all haar cascades worked perfectly to find the faces in human images or dog images, so a combination of all 3 might do the trick. 2 of the detectors work perfectly to detect the faces while the 3rd only works about 50% of the time, but it's the best detector for the dog images."
   ]
  },
  {
   "cell_type": "code",
   "execution_count": 7,
   "metadata": {
    "scrolled": true
   },
   "outputs": [
    {
     "name": "stderr",
     "output_type": "stream",
     "text": [
      "100%|██████████| 100/100 [00:18<00:00,  5.33it/s]\n",
      "100%|██████████| 100/100 [00:49<00:00,  2.57it/s]"
     ]
    },
    {
     "name": "stdout",
     "output_type": "stream",
     "text": [
      "Face detector found 100 faces in 100 human images\n",
      "Face detector found 100 faces in 100 dog images\n"
     ]
    },
    {
     "name": "stderr",
     "output_type": "stream",
     "text": [
      "\n"
     ]
    }
   ],
   "source": [
    "def combo_face_detector(img_path):\n",
    "    face = 0\n",
    "    img = cv2.imread(img_path)\n",
    "    gray = cv2.cvtColor(img, cv2.COLOR_BGR2GRAY)\n",
    "    results = []\n",
    "    for cascade in [\"haarcascade_frontalface_alt.xml\",\n",
    "                    \"haarcascade_frontalface_alt2.xml\",\n",
    "                    \"haarcascade_frontalface_alt_tree.xml\"]:\n",
    "        face_cascade = cv2.CascadeClassifier(f\"haarcascades/{cascade}\")\n",
    "        faces = face_cascade.detectMultiScale(gray)\n",
    "        if len(faces) > 0:\n",
    "            face += 1\n",
    "            results.append(2)\n",
    "        else:\n",
    "            results.append(1)\n",
    "    if sum(results) > 3:\n",
    "        return True\n",
    "    elif results[-1] == 0:\n",
    "        return False\n",
    "    else:\n",
    "        return True\n",
    "\n",
    "human_res = [combo_face_detector(i) for i in tqdm(human_files_short)]\n",
    "dog_res = [combo_face_detector(i) for i in tqdm(dog_files_short)]\n",
    "print(f\"Face detector found {sum(human_res)} faces in 100 human images\")\n",
    "print(f\"Face detector found {sum(dog_res)} faces in 100 dog images\")"
   ]
  },
  {
   "cell_type": "markdown",
   "metadata": {},
   "source": [
    "After trying a number of different combinations of these models, I decided a logistic regression based on the predictions of the three haar cascades would be best for predicting whether there is really a face or not"
   ]
  },
  {
   "cell_type": "code",
   "execution_count": 9,
   "metadata": {
    "scrolled": true
   },
   "outputs": [
    {
     "name": "stderr",
     "output_type": "stream",
     "text": [
      "\n",
      "0it [00:00, ?it/s]\u001b[A\n",
      "1it [00:00,  5.23it/s]\u001b[A\n",
      "2it [00:00,  5.09it/s]\u001b[A\n",
      "3it [00:00,  5.05it/s]\u001b[A\n",
      "4it [00:00,  5.12it/s]\u001b[A\n",
      "5it [00:00,  5.13it/s]\u001b[A\n",
      "6it [00:01,  5.02it/s]\u001b[A\n",
      "7it [00:01,  5.10it/s]\u001b[A\n",
      "8it [00:01,  5.07it/s]\u001b[A\n",
      "9it [00:01,  5.08it/s]\u001b[A\n",
      "10it [00:01,  5.03it/s]\u001b[A\n",
      "11it [00:02,  5.13it/s]\u001b[A\n",
      "12it [00:02,  5.18it/s]\u001b[A\n",
      "13it [00:02,  5.17it/s]\u001b[A\n",
      "14it [00:02,  5.16it/s]\u001b[A\n",
      "15it [00:02,  5.27it/s]\u001b[A\n",
      "16it [00:03,  5.24it/s]\u001b[A\n",
      "17it [00:03,  5.13it/s]\u001b[A\n",
      "18it [00:03,  5.16it/s]\u001b[A\n",
      "19it [00:03,  5.11it/s]\u001b[A\n",
      "20it [00:03,  5.09it/s]\u001b[A\n",
      "21it [00:04,  5.19it/s]\u001b[A\n",
      "22it [00:04,  5.17it/s]\u001b[A\n",
      "23it [00:04,  5.16it/s]\u001b[A\n",
      "24it [00:04,  5.04it/s]\u001b[A\n",
      "25it [00:04,  5.02it/s]\u001b[A\n",
      "26it [00:05,  5.11it/s]\u001b[A\n",
      "27it [00:05,  5.14it/s]\u001b[A\n",
      "28it [00:05,  5.16it/s]\u001b[A\n",
      "29it [00:05,  5.11it/s]\u001b[A\n",
      "30it [00:05,  5.00it/s]\u001b[A\n",
      "31it [00:06,  5.04it/s]\u001b[A\n",
      "32it [00:06,  5.11it/s]\u001b[A\n",
      "33it [00:06,  5.17it/s]\u001b[A\n",
      "34it [00:06,  5.01it/s]\u001b[A\n",
      "35it [00:06,  4.98it/s]\u001b[A\n",
      "36it [00:07,  4.99it/s]\u001b[A\n",
      "37it [00:07,  5.08it/s]\u001b[A\n",
      "38it [00:07,  5.11it/s]\u001b[A\n",
      "39it [00:07,  5.14it/s]\u001b[A\n",
      "40it [00:07,  5.12it/s]\u001b[A\n",
      "41it [00:08,  5.06it/s]\u001b[A\n",
      "42it [00:08,  5.21it/s]\u001b[A\n",
      "43it [00:08,  5.03it/s]\u001b[A\n",
      "44it [00:08,  4.98it/s]\u001b[A\n",
      "45it [00:08,  5.06it/s]\u001b[A\n",
      "200it [01:09,  2.52it/s]"
     ]
    },
    {
     "name": "stdout",
     "output_type": "stream",
     "text": [
      "(200, 4)\n"
     ]
    },
    {
     "name": "stderr",
     "output_type": "stream",
     "text": [
      "\n"
     ]
    }
   ],
   "source": [
    "import pandas as pd\n",
    "from sklearn.model_selection import train_test_split\n",
    "\n",
    "df = pd.DataFrame({\"haar_1\" : [], \"haar_2\" : [], \"haar_3\" : [], \"face\" : []})\n",
    "all_files = np.append(human_files_short, dog_files_short)\n",
    "classes = [True] * 100 + [False] * 100\n",
    "for i, (img_path, c) in tqdm(enumerate(zip(all_files, classes))):\n",
    "    img = cv2.imread(img_path)\n",
    "    gray = cv2.cvtColor(img, cv2.COLOR_BGR2GRAY)\n",
    "    results = []\n",
    "    for cascade in [\"haarcascade_frontalface_alt.xml\",\n",
    "                    \"haarcascade_frontalface_alt2.xml\",\n",
    "                    \"haarcascade_frontalface_alt_tree.xml\"]:\n",
    "        face_cascade = cv2.CascadeClassifier(f\"haarcascades/{cascade}\")\n",
    "        faces = face_cascade.detectMultiScale(gray)\n",
    "        if len(faces) > 0:\n",
    "            results.append(1)\n",
    "        else:\n",
    "            results.append(0)\n",
    "    results.append(c)\n",
    "    df.loc[i, :] = results\n",
    "    \n",
    "print(df.shape)"
   ]
  },
  {
   "cell_type": "code",
   "execution_count": 10,
   "metadata": {},
   "outputs": [],
   "source": [
    "df = pd.read_csv(\"face_predictions.csv\")\n",
    "# df.to_csv(\"face_prediction_400.csv\", index=False)"
   ]
  },
  {
   "cell_type": "code",
   "execution_count": 11,
   "metadata": {},
   "outputs": [
    {
     "name": "stdout",
     "output_type": "stream",
     "text": [
      "0.95\n"
     ]
    },
    {
     "data": {
      "text/plain": [
       "array([[26,  0],\n",
       "       [ 3, 31]])"
      ]
     },
     "execution_count": 11,
     "metadata": {},
     "output_type": "execute_result"
    }
   ],
   "source": [
    "# split the data for training\n",
    "x,y = df.iloc[:, :3], df.iloc[:, -1]\n",
    "x_train, x_test, y_train, y_test = train_test_split(x, y, test_size=0.3, random_state=42, shuffle=True)\n",
    "\n",
    "# fit model and predict\n",
    "from sklearn.linear_model import LogisticRegression\n",
    "\n",
    "clf = LogisticRegression()\n",
    "clf.fit(x_train, y_train)\n",
    "print(clf.score(x_test, y_test))\n",
    "\n",
    "from sklearn.metrics import confusion_matrix\n",
    "confusion_matrix(clf.predict(x_test), y_test)"
   ]
  },
  {
   "cell_type": "markdown",
   "metadata": {},
   "source": [
    "Using a simple logistic regression, we can achieve over 93% accuracy on the test data. However, this is hardly much better than using either of the haar cascades which correctly find human faces 100% of the time but have poor performance when it comes to dogs. Since sklearn optimizes for accuracy, let's use a grid search to find params which optimize the precision and recall."
   ]
  },
  {
   "cell_type": "code",
   "execution_count": 12,
   "metadata": {},
   "outputs": [
    {
     "name": "stdout",
     "output_type": "stream",
     "text": [
      "0.953846153846\n",
      "Scoring test data\n",
      "True negative 26\n",
      "False negative 3\n",
      "True positive 31\n",
      "False positive 0\n",
      "Score on whole dataset\n",
      "True negative 95\n",
      "False negative 5\n",
      "True positive 100\n",
      "False positive 0\n"
     ]
    },
    {
     "name": "stderr",
     "output_type": "stream",
     "text": [
      "/opt/conda/lib/python3.6/site-packages/sklearn/metrics/classification.py:1135: UndefinedMetricWarning: F-score is ill-defined and being set to 0.0 due to no predicted samples.\n",
      "  'precision', 'predicted', average, warn_for)\n",
      "/opt/conda/lib/python3.6/site-packages/sklearn/metrics/classification.py:1135: UndefinedMetricWarning: F-score is ill-defined and being set to 0.0 due to no predicted samples.\n",
      "  'precision', 'predicted', average, warn_for)\n",
      "/opt/conda/lib/python3.6/site-packages/sklearn/metrics/classification.py:1135: UndefinedMetricWarning: F-score is ill-defined and being set to 0.0 due to no predicted samples.\n",
      "  'precision', 'predicted', average, warn_for)\n"
     ]
    }
   ],
   "source": [
    "from sklearn.model_selection import GridSearchCV\n",
    "from sklearn.metrics import make_scorer, f1_score\n",
    "\n",
    "param_grid = {\n",
    "    \"penalty\": [\"l1\", \"l2\"], \n",
    "    \"C\" : [1.0, 0.1, 0.01]\n",
    "}\n",
    "\n",
    "scorers = {\n",
    "    'f1_score': make_scorer(f1_score),\n",
    "}\n",
    "\n",
    "clf = GridSearchCV(LogisticRegression(), param_grid,\n",
    "                   scoring=scorers,\n",
    "                   refit=\"f1_score\")\n",
    "clf.fit(x_train, y_train)\n",
    "print(clf.score(x_test, y_test))\n",
    "\n",
    "def evaluate_model(a, b):\n",
    "    tn, fp, fn, tp = confusion_matrix(clf.predict(a), b).ravel()\n",
    "    print(f\"True negative {tn}\")\n",
    "    print(f\"False negative {fn}\")\n",
    "    print(f\"True positive {tp}\")\n",
    "    print(f\"False positive {fp}\")\n",
    "    \n",
    "print(\"Scoring test data\")\n",
    "evaluate_model(x_test, y_test)\n",
    "print(\"Score on whole dataset\")\n",
    "evaluate_model(x, y)"
   ]
  },
  {
   "cell_type": "markdown",
   "metadata": {},
   "source": [
    "Using the grid search, our model now has an accuracy of 97.5% on the small dataset and works better than any of the single haar cascades alone."
   ]
  },
  {
   "cell_type": "markdown",
   "metadata": {},
   "source": [
    "---\n",
    "<a id='step2'></a>\n",
    "## Step 2: Detect Dogs\n",
    "\n",
    "In this section, we use a pre-trained [ResNet-50](http://ethereon.github.io/netscope/#/gist/db945b393d40bfa26006) model to detect dogs in images.  Our first line of code downloads the ResNet-50 model, along with weights that have been trained on [ImageNet](http://www.image-net.org/), a very large, very popular dataset used for image classification and other vision tasks.  ImageNet contains over 10 million URLs, each linking to an image containing an object from one of [1000 categories](https://gist.github.com/yrevar/942d3a0ac09ec9e5eb3a).  Given an image, this pre-trained ResNet-50 model returns a prediction (derived from the available categories in ImageNet) for the object that is contained in the image."
   ]
  },
  {
   "cell_type": "code",
   "execution_count": 13,
   "metadata": {
    "scrolled": true
   },
   "outputs": [
    {
     "name": "stdout",
     "output_type": "stream",
     "text": [
      "Downloading data from https://github.com/fchollet/deep-learning-models/releases/download/v0.2/resnet50_weights_tf_dim_ordering_tf_kernels.h5\n",
      "102858752/102853048 [==============================] - 1s 0us/step\n"
     ]
    }
   ],
   "source": [
    "from keras.applications.resnet50 import ResNet50\n",
    "\n",
    "# define ResNet50 model\n",
    "ResNet50_model = ResNet50(weights='imagenet')"
   ]
  },
  {
   "cell_type": "markdown",
   "metadata": {},
   "source": [
    "### Pre-process the Data\n",
    "\n",
    "When using TensorFlow as backend, Keras CNNs require a 4D array (which we'll also refer to as a 4D tensor) as input, with shape\n",
    "\n",
    "$$\n",
    "(\\text{nb_samples}, \\text{rows}, \\text{columns}, \\text{channels}),\n",
    "$$\n",
    "\n",
    "where `nb_samples` corresponds to the total number of images (or samples), and `rows`, `columns`, and `channels` correspond to the number of rows, columns, and channels for each image, respectively.  \n",
    "\n",
    "The `path_to_tensor` function below takes a string-valued file path to a color image as input and returns a 4D tensor suitable for supplying to a Keras CNN.  The function first loads the image and resizes it to a square image that is $224 \\times 224$ pixels.  Next, the image is converted to an array, which is then resized to a 4D tensor.  In this case, since we are working with color images, each image has three channels.  Likewise, since we are processing a single image (or sample), the returned tensor will always have shape\n",
    "\n",
    "$$\n",
    "(1, 224, 224, 3).\n",
    "$$\n",
    "\n",
    "The `paths_to_tensor` function takes a numpy array of string-valued image paths as input and returns a 4D tensor with shape \n",
    "\n",
    "$$\n",
    "(\\text{nb_samples}, 224, 224, 3).\n",
    "$$\n",
    "\n",
    "Here, `nb_samples` is the number of samples, or number of images, in the supplied array of image paths.  It is best to think of `nb_samples` as the number of 3D tensors (where each 3D tensor corresponds to a different image) in your dataset!"
   ]
  },
  {
   "cell_type": "code",
   "execution_count": 14,
   "metadata": {
    "scrolled": true
   },
   "outputs": [],
   "source": [
    "from keras.preprocessing import image                  \n",
    "from tqdm import tqdm\n",
    "\n",
    "def path_to_tensor(img_path):\n",
    "    # loads RGB image as PIL.Image.Image type\n",
    "    img = image.load_img(img_path, target_size=(224, 224))\n",
    "    # convert PIL.Image.Image type to 3D tensor with shape (224, 224, 3)\n",
    "    x = image.img_to_array(img)\n",
    "    # convert 3D tensor to 4D tensor with shape (1, 224, 224, 3) and return 4D tensor\n",
    "    return np.expand_dims(x, axis=0)\n",
    "\n",
    "def paths_to_tensor(img_paths):\n",
    "    list_of_tensors = [path_to_tensor(img_path) for img_path in tqdm(img_paths)]\n",
    "    return np.vstack(list_of_tensors)"
   ]
  },
  {
   "cell_type": "markdown",
   "metadata": {},
   "source": [
    "### Making Predictions with ResNet-50\n",
    "\n",
    "Getting the 4D tensor ready for ResNet-50, and for any other pre-trained model in Keras, requires some additional processing.  First, the RGB image is converted to BGR by reordering the channels.  All pre-trained models have the additional normalization step that the mean pixel (expressed in RGB as $[103.939, 116.779, 123.68]$ and calculated from all pixels in all images in ImageNet) must be subtracted from every pixel in each image.  This is implemented in the imported function `preprocess_input`.  If you're curious, you can check the code for `preprocess_input` [here](https://github.com/fchollet/keras/blob/master/keras/applications/imagenet_utils.py).\n",
    "\n",
    "Now that we have a way to format our image for supplying to ResNet-50, we are now ready to use the model to extract the predictions.  This is accomplished with the `predict` method, which returns an array whose $i$-th entry is the model's predicted probability that the image belongs to the $i$-th ImageNet category.  This is implemented in the `ResNet50_predict_labels` function below.\n",
    "\n",
    "By taking the argmax of the predicted probability vector, we obtain an integer corresponding to the model's predicted object class, which we can identify with an object category through the use of this [dictionary](https://gist.github.com/yrevar/942d3a0ac09ec9e5eb3a). "
   ]
  },
  {
   "cell_type": "code",
   "execution_count": 15,
   "metadata": {
    "scrolled": true
   },
   "outputs": [],
   "source": [
    "from keras.applications.resnet50 import preprocess_input, decode_predictions\n",
    "\n",
    "def ResNet50_predict_labels(img_path):\n",
    "    # returns prediction vector for image located at img_path\n",
    "    img = preprocess_input(path_to_tensor(img_path))\n",
    "    return np.argmax(ResNet50_model.predict(img))"
   ]
  },
  {
   "cell_type": "markdown",
   "metadata": {},
   "source": [
    "### Write a Dog Detector\n",
    "\n",
    "While looking at the [dictionary](https://gist.github.com/yrevar/942d3a0ac09ec9e5eb3a), you will notice that the categories corresponding to dogs appear in an uninterrupted sequence and correspond to dictionary keys 151-268, inclusive, to include all categories from `'Chihuahua'` to `'Mexican hairless'`.  Thus, in order to check to see if an image is predicted to contain a dog by the pre-trained ResNet-50 model, we need only check if the `ResNet50_predict_labels` function above returns a value between 151 and 268 (inclusive).\n",
    "\n",
    "We use these ideas to complete the `dog_detector` function below, which returns `True` if a dog is detected in an image (and `False` if not)."
   ]
  },
  {
   "cell_type": "code",
   "execution_count": 16,
   "metadata": {
    "scrolled": true
   },
   "outputs": [],
   "source": [
    "### returns \"True\" if a dog is detected in the image stored at img_path\n",
    "def dog_detector(img_path):\n",
    "    prediction = ResNet50_predict_labels(img_path)\n",
    "    return ((prediction <= 268) & (prediction >= 151)) "
   ]
  },
  {
   "cell_type": "markdown",
   "metadata": {},
   "source": [
    "### (IMPLEMENTATION) Assess the Dog Detector\n",
    "\n",
    "__Question 3:__ Use the code cell below to test the performance of your `dog_detector` function.  \n",
    "- What percentage of the images in `human_files_short` have a detected dog?  \n",
    "- What percentage of the images in `dog_files_short` have a detected dog?\n",
    "\n",
    "__Answer:__ \n",
    "- 0% of the images in `human_files_short` have a detected dog\n",
    "- 100% of the images in `dog_files_short` have a detected dog\n",
    "\n",
    "ResNet50 perfectly predicts if a dog is present or not"
   ]
  },
  {
   "cell_type": "code",
   "execution_count": 17,
   "metadata": {
    "scrolled": true
   },
   "outputs": [
    {
     "name": "stderr",
     "output_type": "stream",
     "text": [
      "100%|██████████| 100/100 [00:05<00:00, 17.68it/s]\n",
      "100%|██████████| 100/100 [00:04<00:00, 24.87it/s]"
     ]
    },
    {
     "name": "stdout",
     "output_type": "stream",
     "text": [
      "0\n",
      "100\n"
     ]
    },
    {
     "name": "stderr",
     "output_type": "stream",
     "text": [
      "\n"
     ]
    }
   ],
   "source": [
    "### TODO: Test the performance of the dog_detector function\n",
    "### on the images in human_files_short and dog_files_short.\n",
    "resnet_human = [dog_detector(i) for i in tqdm(human_files_short)]\n",
    "resnet_dog = [dog_detector(i) for i in tqdm(dog_files_short)]\n",
    "print(sum(resnet_human))\n",
    "print(sum(resnet_dog))"
   ]
  },
  {
   "cell_type": "markdown",
   "metadata": {},
   "source": [
    "---\n",
    "<a id='step3'></a>\n",
    "## Step 3: Create a CNN to Classify Dog Breeds (from Scratch)\n",
    "\n",
    "Now that we have functions for detecting humans and dogs in images, we need a way to predict breed from images.  In this step, you will create a CNN that classifies dog breeds.  You must create your CNN _from scratch_ (so, you can't use transfer learning _yet_!), and you must attain a test accuracy of at least 1%.  In Step 5 of this notebook, you will have the opportunity to use transfer learning to create a CNN that attains greatly improved accuracy.\n",
    "\n",
    "Be careful with adding too many trainable layers!  More parameters means longer training, which means you are more likely to need a GPU to accelerate the training process.  Thankfully, Keras provides a handy estimate of the time that each epoch is likely to take; you can extrapolate this estimate to figure out how long it will take for your algorithm to train. \n",
    "\n",
    "We mention that the task of assigning breed to dogs from images is considered exceptionally challenging.  To see why, consider that *even a human* would have great difficulty in distinguishing between a Brittany and a Welsh Springer Spaniel.  \n",
    "\n",
    "Brittany | Welsh Springer Spaniel\n",
    "- | - \n",
    "<img src=\"images/Brittany_02625.jpg\" width=\"100\"> | <img src=\"images/Welsh_springer_spaniel_08203.jpg\" width=\"200\">\n",
    "\n",
    "It is not difficult to find other dog breed pairs with minimal inter-class variation (for instance, Curly-Coated Retrievers and American Water Spaniels).  \n",
    "\n",
    "Curly-Coated Retriever | American Water Spaniel\n",
    "- | -\n",
    "<img src=\"images/Curly-coated_retriever_03896.jpg\" width=\"200\"> | <img src=\"images/American_water_spaniel_00648.jpg\" width=\"200\">\n",
    "\n",
    "\n",
    "Likewise, recall that labradors come in yellow, chocolate, and black.  Your vision-based algorithm will have to conquer this high intra-class variation to determine how to classify all of these different shades as the same breed.  \n",
    "\n",
    "Yellow Labrador | Chocolate Labrador | Black Labrador\n",
    "- | -\n",
    "<img src=\"images/Labrador_retriever_06457.jpg\" width=\"150\"> | <img src=\"images/Labrador_retriever_06455.jpg\" width=\"240\"> | <img src=\"images/Labrador_retriever_06449.jpg\" width=\"220\">\n",
    "\n",
    "We also mention that random chance presents an exceptionally low bar: setting aside the fact that the classes are slightly imabalanced, a random guess will provide a correct answer roughly 1 in 133 times, which corresponds to an accuracy of less than 1%.  \n",
    "\n",
    "Remember that the practice is far ahead of the theory in deep learning.  Experiment with many different architectures, and trust your intuition.  And, of course, have fun! \n",
    "\n",
    "### Pre-process the Data\n",
    "\n",
    "We rescale the images by dividing every pixel in every image by 255."
   ]
  },
  {
   "cell_type": "code",
   "execution_count": 18,
   "metadata": {
    "scrolled": true
   },
   "outputs": [
    {
     "name": "stderr",
     "output_type": "stream",
     "text": [
      "100%|██████████| 6680/6680 [01:10<00:00, 94.33it/s] \n",
      "100%|██████████| 835/835 [00:07<00:00, 106.11it/s]\n",
      "100%|██████████| 836/836 [00:07<00:00, 107.11it/s]\n"
     ]
    }
   ],
   "source": [
    "from PIL import ImageFile                            \n",
    "ImageFile.LOAD_TRUNCATED_IMAGES = True                 \n",
    "\n",
    "# pre-process the data for Keras\n",
    "train_tensors = paths_to_tensor(train_files).astype('float32')/255\n",
    "valid_tensors = paths_to_tensor(valid_files).astype('float32')/255\n",
    "test_tensors = paths_to_tensor(test_files).astype('float32')/255"
   ]
  },
  {
   "cell_type": "markdown",
   "metadata": {},
   "source": [
    "### (IMPLEMENTATION) Model Architecture\n",
    "\n",
    "Create a CNN to classify dog breed.  At the end of your code cell block, summarize the layers of your model by executing the line:\n",
    "    \n",
    "        model.summary()\n",
    "\n",
    "We have imported some Python modules to get you started, but feel free to import as many modules as you need.  If you end up getting stuck, here's a hint that specifies a model that trains relatively fast on CPU and attains >1% test accuracy in 5 epochs:\n",
    "\n",
    "![Sample CNN](images/sample_cnn.png)\n",
    "           \n",
    "__Question 4:__ Outline the steps you took to get to your final CNN architecture and your reasoning at each step.  If you chose to use the hinted architecture above, describe why you think that CNN architecture should work well for the image classification task.\n",
    "\n",
    "__Answer:__ I chose 4 convolutional layers, global average pooling, and 2 dense layers before the output layer (softmax with 133 outputs) because the 4 convolutional layers should extract edges, shapes, and higher level features which are then averaged and put through the dense layers to make predictions. The batch normalization may help training and convergence."
   ]
  },
  {
   "cell_type": "code",
   "execution_count": 19,
   "metadata": {
    "scrolled": true
   },
   "outputs": [
    {
     "name": "stdout",
     "output_type": "stream",
     "text": [
      "_________________________________________________________________\n",
      "Layer (type)                 Output Shape              Param #   \n",
      "=================================================================\n",
      "conv2d_1 (Conv2D)            (None, 222, 222, 8)       224       \n",
      "_________________________________________________________________\n",
      "batch_normalization_1 (Batch (None, 222, 222, 8)       32        \n",
      "_________________________________________________________________\n",
      "activation_50 (Activation)   (None, 222, 222, 8)       0         \n",
      "_________________________________________________________________\n",
      "conv2d_2 (Conv2D)            (None, 220, 220, 16)      1168      \n",
      "_________________________________________________________________\n",
      "batch_normalization_2 (Batch (None, 220, 220, 16)      64        \n",
      "_________________________________________________________________\n",
      "activation_51 (Activation)   (None, 220, 220, 16)      0         \n",
      "_________________________________________________________________\n",
      "conv2d_3 (Conv2D)            (None, 218, 218, 32)      4640      \n",
      "_________________________________________________________________\n",
      "batch_normalization_3 (Batch (None, 218, 218, 32)      128       \n",
      "_________________________________________________________________\n",
      "activation_52 (Activation)   (None, 218, 218, 32)      0         \n",
      "_________________________________________________________________\n",
      "global_average_pooling2d_1 ( (None, 32)                0         \n",
      "_________________________________________________________________\n",
      "dense_1 (Dense)              (None, 256)               8448      \n",
      "_________________________________________________________________\n",
      "dense_2 (Dense)              (None, 133)               34181     \n",
      "=================================================================\n",
      "Total params: 48,885\n",
      "Trainable params: 48,773\n",
      "Non-trainable params: 112\n",
      "_________________________________________________________________\n"
     ]
    }
   ],
   "source": [
    "from keras.layers import Input, Conv2D, Dense, GlobalAveragePooling2D\n",
    "from keras.layers import Activation, BatchNormalization, Reshape, Dropout\n",
    "from keras.models import Sequential\n",
    "\n",
    "model = Sequential()\n",
    "\n",
    "### TODO: Define your architecture.\n",
    "# model.add(Input(shape=(224, 224, 3)))\n",
    "\n",
    "n_filters = 8\n",
    "while n_filters < 64:\n",
    "    if n_filters == 8:\n",
    "        model.add(Conv2D(n_filters, (3,3), input_shape=(224, 224, 3)))\n",
    "    else:\n",
    "        model.add(Conv2D(n_filters, (3,3)))\n",
    "    model.add(BatchNormalization())\n",
    "    model.add(Activation(\"relu\"))\n",
    "    n_filters *= 2\n",
    "\n",
    "model.add(GlobalAveragePooling2D())\n",
    "model.add(Dense(256, activation=\"relu\"))\n",
    "model.add(Dense(133, activation=\"softmax\"))\n",
    "\n",
    "model.summary()"
   ]
  },
  {
   "cell_type": "markdown",
   "metadata": {},
   "source": [
    "### Compile the Model"
   ]
  },
  {
   "cell_type": "code",
   "execution_count": 20,
   "metadata": {
    "scrolled": true
   },
   "outputs": [],
   "source": [
    "model.compile(optimizer='adam', loss='categorical_crossentropy', metrics=['accuracy'])"
   ]
  },
  {
   "cell_type": "markdown",
   "metadata": {},
   "source": [
    "### (IMPLEMENTATION) Train the Model\n",
    "\n",
    "Train your model in the code cell below.  Use model checkpointing to save the model that attains the best validation loss.\n",
    "\n",
    "You are welcome to [augment the training data](https://blog.keras.io/building-powerful-image-classification-models-using-very-little-data.html), but this is not a requirement. "
   ]
  },
  {
   "cell_type": "code",
   "execution_count": 21,
   "metadata": {
    "scrolled": false
   },
   "outputs": [
    {
     "name": "stdout",
     "output_type": "stream",
     "text": [
      "Train on 6680 samples, validate on 835 samples\n",
      "Epoch 1/20\n",
      "6660/6680 [============================>.] - ETA: 0s - loss: 4.8351 - acc: 0.0137Epoch 00001: val_loss improved from inf to 4.81387, saving model to saved_models/weights.best.from_scratch.hdf5\n",
      "6680/6680 [==============================] - 75s 11ms/step - loss: 4.8343 - acc: 0.0136 - val_loss: 4.8139 - val_acc: 0.0192\n",
      "Epoch 2/20\n",
      "6660/6680 [============================>.] - ETA: 0s - loss: 4.6834 - acc: 0.0260Epoch 00002: val_loss did not improve\n",
      "6680/6680 [==============================] - 74s 11ms/step - loss: 4.6837 - acc: 0.0259 - val_loss: 4.8896 - val_acc: 0.0156\n",
      "Epoch 3/20\n",
      "6660/6680 [============================>.] - ETA: 0s - loss: 4.5928 - acc: 0.0293Epoch 00003: val_loss improved from 4.81387 to 4.68288, saving model to saved_models/weights.best.from_scratch.hdf5\n",
      "6680/6680 [==============================] - 74s 11ms/step - loss: 4.5930 - acc: 0.0292 - val_loss: 4.6829 - val_acc: 0.0311\n",
      "Epoch 4/20\n",
      "6660/6680 [============================>.] - ETA: 0s - loss: 4.5315 - acc: 0.0354Epoch 00004: val_loss improved from 4.68288 to 4.63429, saving model to saved_models/weights.best.from_scratch.hdf5\n",
      "6680/6680 [==============================] - 74s 11ms/step - loss: 4.5323 - acc: 0.0353 - val_loss: 4.6343 - val_acc: 0.0335\n",
      "Epoch 5/20\n",
      "6660/6680 [============================>.] - ETA: 0s - loss: 4.4738 - acc: 0.0413Epoch 00005: val_loss improved from 4.63429 to 4.62082, saving model to saved_models/weights.best.from_scratch.hdf5\n",
      "6680/6680 [==============================] - 74s 11ms/step - loss: 4.4737 - acc: 0.0413 - val_loss: 4.6208 - val_acc: 0.0371\n",
      "Epoch 6/20\n",
      "6660/6680 [============================>.] - ETA: 0s - loss: 4.4326 - acc: 0.0458Epoch 00006: val_loss improved from 4.62082 to 4.58179, saving model to saved_models/weights.best.from_scratch.hdf5\n",
      "6680/6680 [==============================] - 74s 11ms/step - loss: 4.4331 - acc: 0.0460 - val_loss: 4.5818 - val_acc: 0.0395\n",
      "Epoch 7/20\n",
      "6660/6680 [============================>.] - ETA: 0s - loss: 4.3881 - acc: 0.0483Epoch 00007: val_loss did not improve\n",
      "6680/6680 [==============================] - 74s 11ms/step - loss: 4.3884 - acc: 0.0482 - val_loss: 4.5880 - val_acc: 0.0347\n",
      "Epoch 8/20\n",
      "6660/6680 [============================>.] - ETA: 0s - loss: 4.3469 - acc: 0.0556Epoch 00008: val_loss did not improve\n",
      "6680/6680 [==============================] - 73s 11ms/step - loss: 4.3471 - acc: 0.0557 - val_loss: 4.6381 - val_acc: 0.0443\n",
      "Epoch 9/20\n",
      "6660/6680 [============================>.] - ETA: 0s - loss: 4.3249 - acc: 0.0514Epoch 00009: val_loss improved from 4.58179 to 4.52294, saving model to saved_models/weights.best.from_scratch.hdf5\n",
      "6680/6680 [==============================] - 74s 11ms/step - loss: 4.3239 - acc: 0.0515 - val_loss: 4.5229 - val_acc: 0.0503\n",
      "Epoch 10/20\n",
      "6660/6680 [============================>.] - ETA: 0s - loss: 4.2858 - acc: 0.0527Epoch 00010: val_loss did not improve\n",
      "6680/6680 [==============================] - 74s 11ms/step - loss: 4.2868 - acc: 0.0525 - val_loss: 4.5380 - val_acc: 0.0503\n",
      "Epoch 11/20\n",
      "6660/6680 [============================>.] - ETA: 0s - loss: 4.2673 - acc: 0.0617Epoch 00011: val_loss did not improve\n",
      "6680/6680 [==============================] - 73s 11ms/step - loss: 4.2677 - acc: 0.0617 - val_loss: 4.5268 - val_acc: 0.0527\n",
      "Epoch 12/20\n",
      "6660/6680 [============================>.] - ETA: 0s - loss: 4.2131 - acc: 0.0686Epoch 00012: val_loss did not improve\n",
      "6680/6680 [==============================] - 74s 11ms/step - loss: 4.2136 - acc: 0.0686 - val_loss: 4.8455 - val_acc: 0.0383\n",
      "Epoch 13/20\n",
      "6660/6680 [============================>.] - ETA: 0s - loss: 4.1751 - acc: 0.0677Epoch 00013: val_loss improved from 4.52294 to 4.49896, saving model to saved_models/weights.best.from_scratch.hdf5\n",
      "6680/6680 [==============================] - 74s 11ms/step - loss: 4.1752 - acc: 0.0675 - val_loss: 4.4990 - val_acc: 0.0491\n",
      "Epoch 14/20\n",
      "6660/6680 [============================>.] - ETA: 0s - loss: 4.1573 - acc: 0.0779Epoch 00014: val_loss improved from 4.49896 to 4.44534, saving model to saved_models/weights.best.from_scratch.hdf5\n",
      "6680/6680 [==============================] - 74s 11ms/step - loss: 4.1573 - acc: 0.0780 - val_loss: 4.4453 - val_acc: 0.0731\n",
      "Epoch 15/20\n",
      "6660/6680 [============================>.] - ETA: 0s - loss: 4.1212 - acc: 0.0793Epoch 00015: val_loss did not improve\n",
      "6680/6680 [==============================] - 74s 11ms/step - loss: 4.1207 - acc: 0.0792 - val_loss: 4.8023 - val_acc: 0.0431\n",
      "Epoch 16/20\n",
      "6660/6680 [============================>.] - ETA: 0s - loss: 4.0867 - acc: 0.0799Epoch 00016: val_loss did not improve\n",
      "6680/6680 [==============================] - 73s 11ms/step - loss: 4.0870 - acc: 0.0796 - val_loss: 4.4879 - val_acc: 0.0563\n",
      "Epoch 17/20\n",
      "6660/6680 [============================>.] - ETA: 0s - loss: 4.0594 - acc: 0.0856Epoch 00017: val_loss did not improve\n",
      "6680/6680 [==============================] - 74s 11ms/step - loss: 4.0599 - acc: 0.0856 - val_loss: 4.5134 - val_acc: 0.0467\n",
      "Epoch 18/20\n",
      "6660/6680 [============================>.] - ETA: 0s - loss: 4.0422 - acc: 0.0880Epoch 00018: val_loss did not improve\n",
      "6680/6680 [==============================] - 74s 11ms/step - loss: 4.0424 - acc: 0.0880 - val_loss: 4.6078 - val_acc: 0.0443\n",
      "Epoch 19/20\n",
      "6660/6680 [============================>.] - ETA: 0s - loss: 3.9998 - acc: 0.0922Epoch 00019: val_loss did not improve\n",
      "6680/6680 [==============================] - 74s 11ms/step - loss: 3.9991 - acc: 0.0922 - val_loss: 4.5046 - val_acc: 0.0683\n",
      "Epoch 20/20\n",
      "6660/6680 [============================>.] - ETA: 0s - loss: 3.9865 - acc: 0.0938Epoch 00020: val_loss did not improve\n",
      "6680/6680 [==============================] - 74s 11ms/step - loss: 3.9870 - acc: 0.0937 - val_loss: 4.8916 - val_acc: 0.0431\n"
     ]
    },
    {
     "data": {
      "text/plain": [
       "<keras.callbacks.History at 0x7fb3bc23ea90>"
      ]
     },
     "execution_count": 21,
     "metadata": {},
     "output_type": "execute_result"
    }
   ],
   "source": [
    "from keras.callbacks import ModelCheckpoint  \n",
    "\n",
    "### TODO: specify the number of epochs that you would like to use to train the model.\n",
    "\n",
    "epochs = 20\n",
    "\n",
    "### Do NOT modify the code below this line.\n",
    "\n",
    "checkpointer = ModelCheckpoint(filepath='saved_models/weights.best.from_scratch.hdf5', \n",
    "                               verbose=1, save_best_only=True)\n",
    "\n",
    "model.fit(train_tensors, train_targets, \n",
    "          validation_data=(valid_tensors, valid_targets),\n",
    "          epochs=epochs, batch_size=20, callbacks=[checkpointer], verbose=1)"
   ]
  },
  {
   "cell_type": "markdown",
   "metadata": {},
   "source": [
    "### Load the Model with the Best Validation Loss"
   ]
  },
  {
   "cell_type": "code",
   "execution_count": 22,
   "metadata": {
    "scrolled": true
   },
   "outputs": [],
   "source": [
    "model.load_weights('saved_models/weights.best.from_scratch.hdf5')"
   ]
  },
  {
   "cell_type": "markdown",
   "metadata": {},
   "source": [
    "### Test the Model\n",
    "\n",
    "Try out your model on the test dataset of dog images.  Ensure that your test accuracy is greater than 1%."
   ]
  },
  {
   "cell_type": "code",
   "execution_count": 23,
   "metadata": {
    "scrolled": true
   },
   "outputs": [
    {
     "name": "stdout",
     "output_type": "stream",
     "text": [
      "Test accuracy: 6.1005%\n"
     ]
    }
   ],
   "source": [
    "# get index of predicted dog breed for each image in test set\n",
    "dog_breed_predictions = [np.argmax(model.predict(np.expand_dims(tensor, axis=0))) for tensor in test_tensors]\n",
    "\n",
    "# report test accuracy\n",
    "test_accuracy = 100*np.sum(np.array(dog_breed_predictions)==np.argmax(test_targets, axis=1))/len(dog_breed_predictions)\n",
    "print('Test accuracy: %.4f%%' % test_accuracy)"
   ]
  },
  {
   "cell_type": "markdown",
   "metadata": {},
   "source": [
    "---\n",
    "<a id='step4'></a>\n",
    "## Step 4: Use a CNN to Classify Dog Breeds\n",
    "\n",
    "To reduce training time without sacrificing accuracy, we show you how to train a CNN using transfer learning.  In the following step, you will get a chance to use transfer learning to train your own CNN.\n",
    "\n",
    "### Obtain Bottleneck Features"
   ]
  },
  {
   "cell_type": "code",
   "execution_count": 24,
   "metadata": {
    "scrolled": true
   },
   "outputs": [],
   "source": [
    "bottleneck_features = np.load('bottleneck_features/DogVGG16Data.npz')\n",
    "train_VGG16 = bottleneck_features['train']\n",
    "valid_VGG16 = bottleneck_features['valid']\n",
    "test_VGG16 = bottleneck_features['test']"
   ]
  },
  {
   "cell_type": "markdown",
   "metadata": {},
   "source": [
    "### Model Architecture\n",
    "\n",
    "The model uses the the pre-trained VGG-16 model as a fixed feature extractor, where the last convolutional output of VGG-16 is fed as input to our model.  We only add a global average pooling layer and a fully connected layer, where the latter contains one node for each dog category and is equipped with a softmax."
   ]
  },
  {
   "cell_type": "code",
   "execution_count": 25,
   "metadata": {
    "scrolled": true
   },
   "outputs": [
    {
     "name": "stdout",
     "output_type": "stream",
     "text": [
      "_________________________________________________________________\n",
      "Layer (type)                 Output Shape              Param #   \n",
      "=================================================================\n",
      "global_average_pooling2d_2 ( (None, 512)               0         \n",
      "_________________________________________________________________\n",
      "dense_3 (Dense)              (None, 133)               68229     \n",
      "=================================================================\n",
      "Total params: 68,229\n",
      "Trainable params: 68,229\n",
      "Non-trainable params: 0\n",
      "_________________________________________________________________\n"
     ]
    }
   ],
   "source": [
    "VGG16_model = Sequential()\n",
    "VGG16_model.add(GlobalAveragePooling2D(input_shape=train_VGG16.shape[1:]))\n",
    "VGG16_model.add(Dense(133, activation='softmax'))\n",
    "\n",
    "VGG16_model.summary()"
   ]
  },
  {
   "cell_type": "markdown",
   "metadata": {},
   "source": [
    "### Compile the Model"
   ]
  },
  {
   "cell_type": "code",
   "execution_count": 26,
   "metadata": {
    "scrolled": true
   },
   "outputs": [],
   "source": [
    "VGG16_model.compile(loss='categorical_crossentropy', optimizer='rmsprop', metrics=['accuracy'])"
   ]
  },
  {
   "cell_type": "markdown",
   "metadata": {},
   "source": [
    "### Train the Model"
   ]
  },
  {
   "cell_type": "code",
   "execution_count": 27,
   "metadata": {
    "scrolled": true
   },
   "outputs": [
    {
     "name": "stdout",
     "output_type": "stream",
     "text": [
      "Train on 6680 samples, validate on 835 samples\n",
      "Epoch 1/60\n",
      "6560/6680 [============================>.] - ETA: 0s - loss: 12.0677 - acc: 0.1239Epoch 00001: val_loss improved from inf to 10.31109, saving model to saved_models/weights.best.VGG16.hdf5\n",
      "6680/6680 [==============================] - 2s 293us/step - loss: 12.0372 - acc: 0.1254 - val_loss: 10.3111 - val_acc: 0.2204\n",
      "Epoch 2/60\n",
      "6580/6680 [============================>.] - ETA: 0s - loss: 9.8291 - acc: 0.2930Epoch 00002: val_loss improved from 10.31109 to 9.78543, saving model to saved_models/weights.best.VGG16.hdf5\n",
      "6680/6680 [==============================] - 2s 247us/step - loss: 9.8199 - acc: 0.2936 - val_loss: 9.7854 - val_acc: 0.2970\n",
      "Epoch 3/60\n",
      "6520/6680 [============================>.] - ETA: 0s - loss: 9.2865 - acc: 0.3534Epoch 00003: val_loss improved from 9.78543 to 9.35564, saving model to saved_models/weights.best.VGG16.hdf5\n",
      "6680/6680 [==============================] - 2s 247us/step - loss: 9.2853 - acc: 0.3533 - val_loss: 9.3556 - val_acc: 0.3246\n",
      "Epoch 4/60\n",
      "6480/6680 [============================>.] - ETA: 0s - loss: 8.8238 - acc: 0.3963Epoch 00004: val_loss improved from 9.35564 to 9.11554, saving model to saved_models/weights.best.VGG16.hdf5\n",
      "6680/6680 [==============================] - 2s 247us/step - loss: 8.8127 - acc: 0.3966 - val_loss: 9.1155 - val_acc: 0.3581\n",
      "Epoch 5/60\n",
      "6580/6680 [============================>.] - ETA: 0s - loss: 8.5492 - acc: 0.4220Epoch 00005: val_loss improved from 9.11554 to 8.91237, saving model to saved_models/weights.best.VGG16.hdf5\n",
      "6680/6680 [==============================] - 2s 245us/step - loss: 8.5501 - acc: 0.4220 - val_loss: 8.9124 - val_acc: 0.3641\n",
      "Epoch 6/60\n",
      "6640/6680 [============================>.] - ETA: 0s - loss: 8.4033 - acc: 0.4419Epoch 00006: val_loss improved from 8.91237 to 8.85344, saving model to saved_models/weights.best.VGG16.hdf5\n",
      "6680/6680 [==============================] - 2s 248us/step - loss: 8.3918 - acc: 0.4427 - val_loss: 8.8534 - val_acc: 0.3784\n",
      "Epoch 7/60\n",
      "6660/6680 [============================>.] - ETA: 0s - loss: 8.2747 - acc: 0.4539Epoch 00007: val_loss improved from 8.85344 to 8.76858, saving model to saved_models/weights.best.VGG16.hdf5\n",
      "6680/6680 [==============================] - 2s 250us/step - loss: 8.2764 - acc: 0.4539 - val_loss: 8.7686 - val_acc: 0.3904\n",
      "Epoch 8/60\n",
      "6500/6680 [============================>.] - ETA: 0s - loss: 8.1239 - acc: 0.4628Epoch 00008: val_loss improved from 8.76858 to 8.62468, saving model to saved_models/weights.best.VGG16.hdf5\n",
      "6680/6680 [==============================] - 2s 247us/step - loss: 8.1233 - acc: 0.4627 - val_loss: 8.6247 - val_acc: 0.3820\n",
      "Epoch 9/60\n",
      "6560/6680 [============================>.] - ETA: 0s - loss: 7.8346 - acc: 0.4809Epoch 00009: val_loss improved from 8.62468 to 8.38726, saving model to saved_models/weights.best.VGG16.hdf5\n",
      "6680/6680 [==============================] - 2s 247us/step - loss: 7.8198 - acc: 0.4822 - val_loss: 8.3873 - val_acc: 0.3976\n",
      "Epoch 10/60\n",
      "6520/6680 [============================>.] - ETA: 0s - loss: 7.6144 - acc: 0.4962Epoch 00010: val_loss improved from 8.38726 to 8.11268, saving model to saved_models/weights.best.VGG16.hdf5\n",
      "6680/6680 [==============================] - 2s 247us/step - loss: 7.6272 - acc: 0.4955 - val_loss: 8.1127 - val_acc: 0.4216\n",
      "Epoch 11/60\n",
      "6440/6680 [===========================>..] - ETA: 0s - loss: 7.4545 - acc: 0.5076Epoch 00011: val_loss improved from 8.11268 to 7.96888, saving model to saved_models/weights.best.VGG16.hdf5\n",
      "6680/6680 [==============================] - 2s 247us/step - loss: 7.4350 - acc: 0.5088 - val_loss: 7.9689 - val_acc: 0.4180\n",
      "Epoch 12/60\n",
      "6620/6680 [============================>.] - ETA: 0s - loss: 7.2334 - acc: 0.5255Epoch 00012: val_loss improved from 7.96888 to 7.81335, saving model to saved_models/weights.best.VGG16.hdf5\n",
      "6680/6680 [==============================] - 2s 245us/step - loss: 7.2218 - acc: 0.5262 - val_loss: 7.8134 - val_acc: 0.4299\n",
      "Epoch 13/60\n",
      "6620/6680 [============================>.] - ETA: 0s - loss: 7.1114 - acc: 0.5399Epoch 00013: val_loss improved from 7.81335 to 7.79925, saving model to saved_models/weights.best.VGG16.hdf5\n",
      "6680/6680 [==============================] - 2s 246us/step - loss: 7.1147 - acc: 0.5395 - val_loss: 7.7992 - val_acc: 0.4335\n",
      "Epoch 14/60\n",
      "6600/6680 [============================>.] - ETA: 0s - loss: 7.0557 - acc: 0.5491Epoch 00014: val_loss improved from 7.79925 to 7.74842, saving model to saved_models/weights.best.VGG16.hdf5\n",
      "6680/6680 [==============================] - 2s 245us/step - loss: 7.0774 - acc: 0.5479 - val_loss: 7.7484 - val_acc: 0.4455\n",
      "Epoch 15/60\n",
      "6440/6680 [===========================>..] - ETA: 0s - loss: 7.0272 - acc: 0.5531Epoch 00015: val_loss improved from 7.74842 to 7.72902, saving model to saved_models/weights.best.VGG16.hdf5\n",
      "6680/6680 [==============================] - 2s 248us/step - loss: 7.0246 - acc: 0.5528 - val_loss: 7.7290 - val_acc: 0.4407\n",
      "Epoch 16/60\n",
      "6460/6680 [============================>.] - ETA: 0s - loss: 6.9381 - acc: 0.5560Epoch 00016: val_loss improved from 7.72902 to 7.64555, saving model to saved_models/weights.best.VGG16.hdf5\n",
      "6680/6680 [==============================] - 2s 248us/step - loss: 6.9489 - acc: 0.5551 - val_loss: 7.6456 - val_acc: 0.4455\n",
      "Epoch 17/60\n",
      "6560/6680 [============================>.] - ETA: 0s - loss: 6.8601 - acc: 0.5628Epoch 00017: val_loss improved from 7.64555 to 7.57414, saving model to saved_models/weights.best.VGG16.hdf5\n",
      "6680/6680 [==============================] - 2s 246us/step - loss: 6.8680 - acc: 0.5624 - val_loss: 7.5741 - val_acc: 0.4515\n",
      "Epoch 18/60\n",
      "6440/6680 [===========================>..] - ETA: 0s - loss: 6.6751 - acc: 0.5679Epoch 00018: val_loss improved from 7.57414 to 7.37017, saving model to saved_models/weights.best.VGG16.hdf5\n",
      "6680/6680 [==============================] - 2s 249us/step - loss: 6.6730 - acc: 0.5680 - val_loss: 7.3702 - val_acc: 0.4659\n",
      "Epoch 19/60\n",
      "6460/6680 [============================>.] - ETA: 0s - loss: 6.5137 - acc: 0.5853Epoch 00019: val_loss improved from 7.37017 to 7.27644, saving model to saved_models/weights.best.VGG16.hdf5\n",
      "6680/6680 [==============================] - 2s 247us/step - loss: 6.5193 - acc: 0.5846 - val_loss: 7.2764 - val_acc: 0.4754\n",
      "Epoch 20/60\n",
      "6440/6680 [===========================>..] - ETA: 0s - loss: 6.4595 - acc: 0.5870Epoch 00020: val_loss improved from 7.27644 to 7.25544, saving model to saved_models/weights.best.VGG16.hdf5\n",
      "6680/6680 [==============================] - 2s 247us/step - loss: 6.4503 - acc: 0.5868 - val_loss: 7.2554 - val_acc: 0.4635\n",
      "Epoch 21/60\n",
      "6500/6680 [============================>.] - ETA: 0s - loss: 6.3057 - acc: 0.5940Epoch 00021: val_loss improved from 7.25544 to 7.19229, saving model to saved_models/weights.best.VGG16.hdf5\n",
      "6680/6680 [==============================] - 2s 248us/step - loss: 6.2946 - acc: 0.5948 - val_loss: 7.1923 - val_acc: 0.4719\n",
      "Epoch 22/60\n",
      "6580/6680 [============================>.] - ETA: 0s - loss: 6.2073 - acc: 0.6040Epoch 00022: val_loss improved from 7.19229 to 7.06251, saving model to saved_models/weights.best.VGG16.hdf5\n",
      "6680/6680 [==============================] - 2s 249us/step - loss: 6.2149 - acc: 0.6036 - val_loss: 7.0625 - val_acc: 0.4838\n",
      "Epoch 23/60\n",
      "6460/6680 [============================>.] - ETA: 0s - loss: 6.1622 - acc: 0.6067Epoch 00023: val_loss did not improve\n",
      "6680/6680 [==============================] - 2s 247us/step - loss: 6.1472 - acc: 0.6076 - val_loss: 7.0909 - val_acc: 0.4838\n",
      "Epoch 24/60\n",
      "6540/6680 [============================>.] - ETA: 0s - loss: 6.1145 - acc: 0.6139Epoch 00024: val_loss improved from 7.06251 to 6.97829, saving model to saved_models/weights.best.VGG16.hdf5\n",
      "6680/6680 [==============================] - 2s 246us/step - loss: 6.1150 - acc: 0.6139 - val_loss: 6.9783 - val_acc: 0.4982\n",
      "Epoch 25/60\n",
      "6540/6680 [============================>.] - ETA: 0s - loss: 6.0932 - acc: 0.6154Epoch 00025: val_loss did not improve\n",
      "6680/6680 [==============================] - 2s 250us/step - loss: 6.1007 - acc: 0.6148 - val_loss: 7.0029 - val_acc: 0.4982\n",
      "Epoch 26/60\n",
      "6620/6680 [============================>.] - ETA: 0s - loss: 5.9938 - acc: 0.6219Epoch 00026: val_loss improved from 6.97829 to 6.92670, saving model to saved_models/weights.best.VGG16.hdf5\n",
      "6680/6680 [==============================] - 2s 245us/step - loss: 6.0028 - acc: 0.6214 - val_loss: 6.9267 - val_acc: 0.4958\n",
      "Epoch 27/60\n",
      "6500/6680 [============================>.] - ETA: 0s - loss: 5.9271 - acc: 0.6220Epoch 00027: val_loss improved from 6.92670 to 6.85120, saving model to saved_models/weights.best.VGG16.hdf5\n",
      "6680/6680 [==============================] - 2s 248us/step - loss: 5.9103 - acc: 0.6231 - val_loss: 6.8512 - val_acc: 0.4958\n",
      "Epoch 28/60\n",
      "6480/6680 [============================>.] - ETA: 0s - loss: 5.7414 - acc: 0.6364Epoch 00028: val_loss improved from 6.85120 to 6.79772, saving model to saved_models/weights.best.VGG16.hdf5\n",
      "6680/6680 [==============================] - 2s 247us/step - loss: 5.7131 - acc: 0.6379 - val_loss: 6.7977 - val_acc: 0.4958\n",
      "Epoch 29/60\n",
      "6520/6680 [============================>.] - ETA: 0s - loss: 5.6014 - acc: 0.6410Epoch 00029: val_loss improved from 6.79772 to 6.57526, saving model to saved_models/weights.best.VGG16.hdf5\n",
      "6680/6680 [==============================] - 2s 247us/step - loss: 5.5929 - acc: 0.6418 - val_loss: 6.5753 - val_acc: 0.5198\n",
      "Epoch 30/60\n",
      "6440/6680 [===========================>..] - ETA: 0s - loss: 5.5242 - acc: 0.6523Epoch 00030: val_loss improved from 6.57526 to 6.56803, saving model to saved_models/weights.best.VGG16.hdf5\n",
      "6680/6680 [==============================] - 2s 248us/step - loss: 5.5336 - acc: 0.6515 - val_loss: 6.5680 - val_acc: 0.5222\n",
      "Epoch 31/60\n",
      "6660/6680 [============================>.] - ETA: 0s - loss: 5.5187 - acc: 0.6535Epoch 00031: val_loss improved from 6.56803 to 6.44259, saving model to saved_models/weights.best.VGG16.hdf5\n",
      "6680/6680 [==============================] - 2s 249us/step - loss: 5.5215 - acc: 0.6533 - val_loss: 6.4426 - val_acc: 0.5234\n",
      "Epoch 32/60\n",
      "6560/6680 [============================>.] - ETA: 0s - loss: 5.4697 - acc: 0.6530Epoch 00032: val_loss did not improve\n",
      "6680/6680 [==============================] - 2s 244us/step - loss: 5.4805 - acc: 0.6524 - val_loss: 6.5004 - val_acc: 0.5257\n",
      "Epoch 33/60\n",
      "6500/6680 [============================>.] - ETA: 0s - loss: 5.3867 - acc: 0.6568Epoch 00033: val_loss improved from 6.44259 to 6.41462, saving model to saved_models/weights.best.VGG16.hdf5\n",
      "6680/6680 [==============================] - 2s 247us/step - loss: 5.4075 - acc: 0.6555 - val_loss: 6.4146 - val_acc: 0.5234\n",
      "Epoch 34/60\n",
      "6460/6680 [============================>.] - ETA: 0s - loss: 5.3673 - acc: 0.6588Epoch 00034: val_loss improved from 6.41462 to 6.39051, saving model to saved_models/weights.best.VGG16.hdf5\n",
      "6680/6680 [==============================] - 2s 248us/step - loss: 5.3499 - acc: 0.6600 - val_loss: 6.3905 - val_acc: 0.5269\n",
      "Epoch 35/60\n",
      "6600/6680 [============================>.] - ETA: 0s - loss: 5.3183 - acc: 0.6632Epoch 00035: val_loss did not improve\n",
      "6680/6680 [==============================] - 2s 244us/step - loss: 5.3204 - acc: 0.6630 - val_loss: 6.4120 - val_acc: 0.5257\n",
      "Epoch 36/60\n",
      "6540/6680 [============================>.] - ETA: 0s - loss: 5.2683 - acc: 0.6647Epoch 00036: val_loss improved from 6.39051 to 6.33395, saving model to saved_models/weights.best.VGG16.hdf5\n",
      "6680/6680 [==============================] - 2s 246us/step - loss: 5.2479 - acc: 0.6660 - val_loss: 6.3340 - val_acc: 0.5305\n",
      "Epoch 37/60\n",
      "6560/6680 [============================>.] - ETA: 0s - loss: 5.2310 - acc: 0.6694Epoch 00037: val_loss improved from 6.33395 to 6.32606, saving model to saved_models/weights.best.VGG16.hdf5\n",
      "6680/6680 [==============================] - 2s 247us/step - loss: 5.2121 - acc: 0.6704 - val_loss: 6.3261 - val_acc: 0.5389\n",
      "Epoch 38/60\n",
      "6520/6680 [============================>.] - ETA: 0s - loss: 5.1962 - acc: 0.6732Epoch 00038: val_loss improved from 6.32606 to 6.32044, saving model to saved_models/weights.best.VGG16.hdf5\n",
      "6680/6680 [==============================] - 2s 247us/step - loss: 5.1980 - acc: 0.6729 - val_loss: 6.3204 - val_acc: 0.5365\n",
      "Epoch 39/60\n",
      "6580/6680 [============================>.] - ETA: 0s - loss: 5.2031 - acc: 0.6733Epoch 00039: val_loss did not improve\n",
      "6680/6680 [==============================] - 2s 248us/step - loss: 5.1880 - acc: 0.6743 - val_loss: 6.3626 - val_acc: 0.5365\n",
      "Epoch 40/60\n",
      "6520/6680 [============================>.] - ETA: 0s - loss: 5.1761 - acc: 0.6762Epoch 00040: val_loss improved from 6.32044 to 6.26453, saving model to saved_models/weights.best.VGG16.hdf5\n",
      "6680/6680 [==============================] - 2s 246us/step - loss: 5.1849 - acc: 0.6757 - val_loss: 6.2645 - val_acc: 0.5353\n",
      "Epoch 41/60\n",
      "6580/6680 [============================>.] - ETA: 0s - loss: 5.1662 - acc: 0.6771Epoch 00041: val_loss did not improve\n",
      "6680/6680 [==============================] - 2s 244us/step - loss: 5.1805 - acc: 0.6762 - val_loss: 6.2892 - val_acc: 0.5437\n",
      "Epoch 42/60\n",
      "6520/6680 [============================>.] - ETA: 0s - loss: 5.2027 - acc: 0.6755Epoch 00042: val_loss improved from 6.26453 to 6.26384, saving model to saved_models/weights.best.VGG16.hdf5\n",
      "6680/6680 [==============================] - 2s 247us/step - loss: 5.1754 - acc: 0.6771 - val_loss: 6.2638 - val_acc: 0.5461\n",
      "Epoch 43/60\n",
      "6500/6680 [============================>.] - ETA: 0s - loss: 5.1547 - acc: 0.6782Epoch 00043: val_loss did not improve\n",
      "6680/6680 [==============================] - 2s 252us/step - loss: 5.1704 - acc: 0.6772 - val_loss: 6.3318 - val_acc: 0.5377\n",
      "Epoch 44/60\n",
      "6660/6680 [============================>.] - ETA: 0s - loss: 5.1451 - acc: 0.6767Epoch 00044: val_loss did not improve\n",
      "6680/6680 [==============================] - 2s 246us/step - loss: 5.1514 - acc: 0.6763 - val_loss: 6.3672 - val_acc: 0.5413\n",
      "Epoch 45/60\n",
      "6460/6680 [============================>.] - ETA: 0s - loss: 5.0938 - acc: 0.6782Epoch 00045: val_loss did not improve\n",
      "6680/6680 [==============================] - 2s 247us/step - loss: 5.1120 - acc: 0.6771 - val_loss: 6.4215 - val_acc: 0.5293\n",
      "Epoch 46/60\n",
      "6460/6680 [============================>.] - ETA: 0s - loss: 5.0563 - acc: 0.6800Epoch 00046: val_loss did not improve\n",
      "6680/6680 [==============================] - 2s 247us/step - loss: 5.0662 - acc: 0.6795 - val_loss: 6.3855 - val_acc: 0.5401\n",
      "Epoch 47/60\n",
      "6580/6680 [============================>.] - ETA: 0s - loss: 5.0181 - acc: 0.6834Epoch 00047: val_loss did not improve\n",
      "6680/6680 [==============================] - 2s 247us/step - loss: 5.0302 - acc: 0.6826 - val_loss: 6.3869 - val_acc: 0.5365\n",
      "Epoch 48/60\n",
      "6600/6680 [============================>.] - ETA: 0s - loss: 5.0291 - acc: 0.6842Epoch 00048: val_loss did not improve\n",
      "6680/6680 [==============================] - 2s 243us/step - loss: 5.0148 - acc: 0.6852 - val_loss: 6.3381 - val_acc: 0.5341\n",
      "Epoch 49/60\n",
      "6560/6680 [============================>.] - ETA: 0s - loss: 5.0044 - acc: 0.6867Epoch 00049: val_loss did not improve\n",
      "6680/6680 [==============================] - 2s 244us/step - loss: 5.0134 - acc: 0.6862 - val_loss: 6.2776 - val_acc: 0.5413\n",
      "Epoch 50/60\n",
      "6580/6680 [============================>.] - ETA: 0s - loss: 5.0163 - acc: 0.6862Epoch 00050: val_loss did not improve\n",
      "6680/6680 [==============================] - 2s 245us/step - loss: 5.0088 - acc: 0.6867 - val_loss: 6.3475 - val_acc: 0.5449\n",
      "Epoch 51/60\n",
      "6500/6680 [============================>.] - ETA: 0s - loss: 4.9826 - acc: 0.6891Epoch 00051: val_loss did not improve\n",
      "6680/6680 [==============================] - 2s 245us/step - loss: 5.0028 - acc: 0.6879 - val_loss: 6.3033 - val_acc: 0.5497\n",
      "Epoch 52/60\n",
      "6600/6680 [============================>.] - ETA: 0s - loss: 5.0093 - acc: 0.6873Epoch 00052: val_loss did not improve\n",
      "6680/6680 [==============================] - 2s 247us/step - loss: 5.0024 - acc: 0.6877 - val_loss: 6.3105 - val_acc: 0.5425\n",
      "Epoch 53/60\n",
      "6660/6680 [============================>.] - ETA: 0s - loss: 4.9965 - acc: 0.6878Epoch 00053: val_loss improved from 6.26384 to 6.22060, saving model to saved_models/weights.best.VGG16.hdf5\n",
      "6680/6680 [==============================] - 2s 248us/step - loss: 4.9984 - acc: 0.6877 - val_loss: 6.2206 - val_acc: 0.5485\n",
      "Epoch 54/60\n",
      "6520/6680 [============================>.] - ETA: 0s - loss: 5.0118 - acc: 0.6867Epoch 00054: val_loss did not improve\n",
      "6680/6680 [==============================] - 2s 246us/step - loss: 4.9955 - acc: 0.6877 - val_loss: 6.2806 - val_acc: 0.5533\n",
      "Epoch 55/60\n",
      "6500/6680 [============================>.] - ETA: 0s - loss: 5.0180 - acc: 0.6877Epoch 00055: val_loss did not improve\n",
      "6680/6680 [==============================] - 2s 247us/step - loss: 4.9962 - acc: 0.6891 - val_loss: 6.2925 - val_acc: 0.5509\n",
      "Epoch 56/60\n",
      "6520/6680 [============================>.] - ETA: 0s - loss: 5.0055 - acc: 0.6879Epoch 00056: val_loss did not improve\n",
      "6680/6680 [==============================] - 2s 245us/step - loss: 4.9898 - acc: 0.6886 - val_loss: 6.3622 - val_acc: 0.5461\n",
      "Epoch 57/60\n",
      "6520/6680 [============================>.] - ETA: 0s - loss: 4.9945 - acc: 0.6888Epoch 00057: val_loss did not improve\n",
      "6680/6680 [==============================] - 2s 246us/step - loss: 4.9844 - acc: 0.6894 - val_loss: 6.3038 - val_acc: 0.5557\n",
      "Epoch 58/60\n",
      "6540/6680 [============================>.] - ETA: 0s - loss: 4.9698 - acc: 0.6907Epoch 00058: val_loss did not improve\n",
      "6680/6680 [==============================] - 2s 246us/step - loss: 4.9815 - acc: 0.6900 - val_loss: 6.3137 - val_acc: 0.5485\n",
      "Epoch 59/60\n",
      "6540/6680 [============================>.] - ETA: 0s - loss: 4.9878 - acc: 0.6894Epoch 00059: val_loss did not improve\n",
      "6680/6680 [==============================] - 2s 246us/step - loss: 4.9822 - acc: 0.6898 - val_loss: 6.2970 - val_acc: 0.5617\n",
      "Epoch 60/60\n",
      "6500/6680 [============================>.] - ETA: 0s - loss: 4.9633 - acc: 0.6886Epoch 00060: val_loss did not improve\n",
      "6680/6680 [==============================] - 2s 246us/step - loss: 4.9647 - acc: 0.6886 - val_loss: 6.3250 - val_acc: 0.5449\n"
     ]
    },
    {
     "data": {
      "text/plain": [
       "<keras.callbacks.History at 0x7fb39d3a77b8>"
      ]
     },
     "execution_count": 27,
     "metadata": {},
     "output_type": "execute_result"
    }
   ],
   "source": [
    "checkpointer = ModelCheckpoint(filepath='saved_models/weights.best.VGG16.hdf5', \n",
    "                               verbose=1, save_best_only=True)\n",
    "\n",
    "VGG16_model.fit(train_VGG16, train_targets, \n",
    "          validation_data=(valid_VGG16, valid_targets),\n",
    "          epochs=60, batch_size=20, callbacks=[checkpointer], verbose=1)"
   ]
  },
  {
   "cell_type": "markdown",
   "metadata": {},
   "source": [
    "### Load the Model with the Best Validation Loss"
   ]
  },
  {
   "cell_type": "code",
   "execution_count": 28,
   "metadata": {
    "scrolled": true
   },
   "outputs": [],
   "source": [
    "VGG16_model.load_weights('saved_models/weights.best.VGG16.hdf5')"
   ]
  },
  {
   "cell_type": "markdown",
   "metadata": {},
   "source": [
    "### Test the Model\n",
    "\n",
    "Now, we can use the CNN to test how well it identifies breed within our test dataset of dog images.  We print the test accuracy below."
   ]
  },
  {
   "cell_type": "code",
   "execution_count": 29,
   "metadata": {
    "scrolled": true
   },
   "outputs": [
    {
     "name": "stdout",
     "output_type": "stream",
     "text": [
      "Test accuracy: 52.6316%\n"
     ]
    }
   ],
   "source": [
    "# get index of predicted dog breed for each image in test set\n",
    "VGG16_predictions = [np.argmax(VGG16_model.predict(np.expand_dims(feature, axis=0))) for feature in test_VGG16]\n",
    "\n",
    "# report test accuracy\n",
    "test_accuracy = 100*np.sum(np.array(VGG16_predictions)==np.argmax(test_targets, axis=1))/len(VGG16_predictions)\n",
    "print('Test accuracy: %.4f%%' % test_accuracy)"
   ]
  },
  {
   "cell_type": "markdown",
   "metadata": {},
   "source": [
    "### Predict Dog Breed with the Model"
   ]
  },
  {
   "cell_type": "code",
   "execution_count": 30,
   "metadata": {
    "scrolled": true
   },
   "outputs": [],
   "source": [
    "from extract_bottleneck_features import *\n",
    "\n",
    "def VGG16_predict_breed(img_path):\n",
    "    # extract bottleneck features\n",
    "    bottleneck_feature = extract_VGG16(path_to_tensor(img_path))\n",
    "    # obtain predicted vector\n",
    "    predicted_vector = VGG16_model.predict(bottleneck_feature)\n",
    "    # return dog breed that is predicted by the model\n",
    "    return dog_names[np.argmax(predicted_vector)]"
   ]
  },
  {
   "cell_type": "markdown",
   "metadata": {},
   "source": [
    "---\n",
    "<a id='step5'></a>\n",
    "## Step 5: Create a CNN to Classify Dog Breeds (using Transfer Learning)\n",
    "\n",
    "You will now use transfer learning to create a CNN that can identify dog breed from images.  Your CNN must attain at least 60% accuracy on the test set.\n",
    "\n",
    "In Step 4, we used transfer learning to create a CNN using VGG-16 bottleneck features.  In this section, you must use the bottleneck features from a different pre-trained model.  To make things easier for you, we have pre-computed the features for all of the networks that are currently available in Keras:\n",
    "- [VGG-19](https://s3-us-west-1.amazonaws.com/udacity-aind/dog-project/DogVGG19Data.npz) bottleneck features\n",
    "- [ResNet-50](https://s3-us-west-1.amazonaws.com/udacity-aind/dog-project/DogResnet50Data.npz) bottleneck features\n",
    "- [Inception](https://s3-us-west-1.amazonaws.com/udacity-aind/dog-project/DogInceptionV3Data.npz) bottleneck features\n",
    "- [Xception](https://s3-us-west-1.amazonaws.com/udacity-aind/dog-project/DogXceptionData.npz) bottleneck features\n",
    "\n",
    "The files are encoded as such:\n",
    "\n",
    "    Dog{network}Data.npz\n",
    "    \n",
    "where `{network}`, in the above filename, can be one of `VGG19`, `Resnet50`, `InceptionV3`, or `Xception`.  Pick one of the above architectures, download the corresponding bottleneck features, and store the downloaded file in the `bottleneck_features/` folder in the repository.\n",
    "\n",
    "### (IMPLEMENTATION) Obtain Bottleneck Features\n",
    "\n",
    "In the code block below, extract the bottleneck features corresponding to the train, test, and validation sets by running the following:\n",
    "\n",
    "    bottleneck_features = np.load('bottleneck_features/Dog{network}Data.npz')\n",
    "    train_{network} = bottleneck_features['train']\n",
    "    valid_{network} = bottleneck_features['valid']\n",
    "    test_{network} = bottleneck_features['test']"
   ]
  },
  {
   "cell_type": "code",
   "execution_count": 31,
   "metadata": {
    "scrolled": true
   },
   "outputs": [],
   "source": [
    "### TODO: Obtain bottleneck features from another pre-trained CNN.\n",
    "from io import BytesIO\n",
    "import requests\n",
    "\n",
    "bottleneck_Xception = np.load(\n",
    "    BytesIO(\n",
    "        requests.get('https://s3-us-west-1.amazonaws.com/udacity-aind/dog-project/DogXceptionData.npz',\n",
    "                     stream = True).raw.read()\n",
    "    ),\n",
    "    allow_pickle=True)\n",
    "train_Xception = bottleneck_Xception['train']\n",
    "valid_Xception = bottleneck_Xception['valid']\n",
    "test_Xception = bottleneck_Xception['test']"
   ]
  },
  {
   "cell_type": "markdown",
   "metadata": {},
   "source": [
    "### (IMPLEMENTATION) Model Architecture\n",
    "\n",
    "Create a CNN to classify dog breed.  At the end of your code cell block, summarize the layers of your model by executing the line:\n",
    "    \n",
    "        <your model's name>.summary()\n",
    "   \n",
    "__Question 5:__ Outline the steps you took to get to your final CNN architecture and your reasoning at each step.  Describe why you think the architecture is suitable for the current problem.\n",
    "\n",
    "__Answer:__ I opted to use the Xception model because it is the smaller of the suggested models and should make inferences faster, making it the optimal choice for incorporating into a web app\n",
    "\n"
   ]
  },
  {
   "cell_type": "code",
   "execution_count": 32,
   "metadata": {
    "scrolled": true
   },
   "outputs": [
    {
     "name": "stdout",
     "output_type": "stream",
     "text": [
      "_________________________________________________________________\n",
      "Layer (type)                 Output Shape              Param #   \n",
      "=================================================================\n",
      "global_average_pooling2d_3 ( (None, 2048)              0         \n",
      "_________________________________________________________________\n",
      "dropout_1 (Dropout)          (None, 2048)              0         \n",
      "_________________________________________________________________\n",
      "dense_4 (Dense)              (None, 133)               272517    \n",
      "=================================================================\n",
      "Total params: 272,517\n",
      "Trainable params: 272,517\n",
      "Non-trainable params: 0\n",
      "_________________________________________________________________\n"
     ]
    }
   ],
   "source": [
    "### TODO: Define your architecture.\n",
    "# xception_model = Sequential()\n",
    "# xception = Xception(include_top=False, input_shape=(224, 224, 3))\n",
    "# xception_model.add(xception)\n",
    "# xception_model.add(GlobalAveragePooling2D())\n",
    "# xception_model.add(Dense(133, activation='softmax'))\n",
    "# xception_model.summary()\n",
    "Xception_model = Sequential()\n",
    "Xception_model.add(GlobalAveragePooling2D(input_shape=train_Xception.shape[1:]))\n",
    "Xception_model.add(Dropout(0.2))\n",
    "Xception_model.add(Dense(133, activation='softmax'))\n",
    "Xception_model.summary()"
   ]
  },
  {
   "cell_type": "markdown",
   "metadata": {},
   "source": [
    "### (IMPLEMENTATION) Compile the Model"
   ]
  },
  {
   "cell_type": "code",
   "execution_count": 33,
   "metadata": {
    "scrolled": true
   },
   "outputs": [],
   "source": [
    "### TODO: Compile the model.\n",
    "Xception_model.compile(loss='categorical_crossentropy', optimizer='adam', metrics=['accuracy'])"
   ]
  },
  {
   "cell_type": "markdown",
   "metadata": {},
   "source": [
    "### (IMPLEMENTATION) Train the Model\n",
    "\n",
    "Train your model in the code cell below.  Use model checkpointing to save the model that attains the best validation loss.  \n",
    "\n",
    "You are welcome to [augment the training data](https://blog.keras.io/building-powerful-image-classification-models-using-very-little-data.html), but this is not a requirement. "
   ]
  },
  {
   "cell_type": "code",
   "execution_count": 34,
   "metadata": {
    "scrolled": true
   },
   "outputs": [
    {
     "name": "stdout",
     "output_type": "stream",
     "text": [
      "Train on 6680 samples, validate on 835 samples\n",
      "Epoch 1/20\n",
      "6680/6680 [==============================] - 3s 381us/step - loss: 1.3186 - acc: 0.7030 - val_loss: 0.5811 - val_acc: 0.8275\n",
      "Epoch 2/20\n",
      "6680/6680 [==============================] - 2s 323us/step - loss: 0.4089 - acc: 0.8787 - val_loss: 0.4997 - val_acc: 0.8419\n",
      "Epoch 3/20\n",
      "6680/6680 [==============================] - 2s 327us/step - loss: 0.2857 - acc: 0.9207 - val_loss: 0.4693 - val_acc: 0.8479\n",
      "Epoch 4/20\n",
      "6680/6680 [==============================] - 2s 324us/step - loss: 0.2097 - acc: 0.9443 - val_loss: 0.4581 - val_acc: 0.8443\n",
      "Epoch 5/20\n",
      "6680/6680 [==============================] - 2s 323us/step - loss: 0.1664 - acc: 0.9569 - val_loss: 0.4567 - val_acc: 0.8551\n",
      "Epoch 6/20\n",
      "6680/6680 [==============================] - 2s 324us/step - loss: 0.1314 - acc: 0.9723 - val_loss: 0.4534 - val_acc: 0.8599\n",
      "Epoch 7/20\n",
      "6680/6680 [==============================] - 2s 321us/step - loss: 0.1070 - acc: 0.9783 - val_loss: 0.4458 - val_acc: 0.8587\n",
      "Epoch 8/20\n",
      "6680/6680 [==============================] - 2s 322us/step - loss: 0.0890 - acc: 0.9832 - val_loss: 0.4573 - val_acc: 0.8563\n",
      "Epoch 9/20\n",
      "6680/6680 [==============================] - 2s 320us/step - loss: 0.0766 - acc: 0.9867 - val_loss: 0.4466 - val_acc: 0.8623\n",
      "Epoch 10/20\n",
      "6680/6680 [==============================] - 2s 320us/step - loss: 0.0629 - acc: 0.9901 - val_loss: 0.4715 - val_acc: 0.8599\n",
      "Epoch 11/20\n",
      "6680/6680 [==============================] - 2s 320us/step - loss: 0.0580 - acc: 0.9922 - val_loss: 0.4675 - val_acc: 0.8599\n",
      "Epoch 12/20\n",
      "6680/6680 [==============================] - 2s 319us/step - loss: 0.0526 - acc: 0.9909 - val_loss: 0.4592 - val_acc: 0.8647\n",
      "Epoch 13/20\n",
      "6680/6680 [==============================] - 2s 320us/step - loss: 0.0431 - acc: 0.9951 - val_loss: 0.4607 - val_acc: 0.8671\n",
      "Epoch 14/20\n",
      "6680/6680 [==============================] - 2s 320us/step - loss: 0.0408 - acc: 0.9946 - val_loss: 0.4753 - val_acc: 0.8575\n",
      "Epoch 15/20\n",
      "6680/6680 [==============================] - 2s 320us/step - loss: 0.0365 - acc: 0.9955 - val_loss: 0.4781 - val_acc: 0.8599\n",
      "Epoch 16/20\n",
      "6680/6680 [==============================] - 2s 321us/step - loss: 0.0330 - acc: 0.9958 - val_loss: 0.4755 - val_acc: 0.8515\n",
      "Epoch 17/20\n",
      "6680/6680 [==============================] - 2s 318us/step - loss: 0.0288 - acc: 0.9969 - val_loss: 0.4785 - val_acc: 0.8683\n",
      "Epoch 18/20\n",
      "6680/6680 [==============================] - 2s 321us/step - loss: 0.0257 - acc: 0.9975 - val_loss: 0.4838 - val_acc: 0.8551\n",
      "Epoch 19/20\n",
      "6680/6680 [==============================] - 2s 319us/step - loss: 0.0243 - acc: 0.9972 - val_loss: 0.4861 - val_acc: 0.8599\n",
      "Epoch 20/20\n",
      "6680/6680 [==============================] - 2s 321us/step - loss: 0.0231 - acc: 0.9970 - val_loss: 0.5127 - val_acc: 0.8515\n"
     ]
    },
    {
     "data": {
      "text/plain": [
       "<keras.callbacks.History at 0x7fb3bd35c4a8>"
      ]
     },
     "execution_count": 34,
     "metadata": {},
     "output_type": "execute_result"
    }
   ],
   "source": [
    "### TODO: Train the model.\n",
    "checkpointer_Xception = ModelCheckpoint(filepath='saved_models/weights.best.Xception.hdf5', \n",
    "                               verbose=0, save_best_only=True)\n",
    "\n",
    "Xception_model.fit(train_Xception, train_targets, batch_size=32,epochs=20,\n",
    "                          validation_data=(valid_Xception, valid_targets), verbose=1,\n",
    "                          callbacks=[checkpointer_Xception])"
   ]
  },
  {
   "cell_type": "markdown",
   "metadata": {},
   "source": [
    "### (IMPLEMENTATION) Load the Model with the Best Validation Loss"
   ]
  },
  {
   "cell_type": "code",
   "execution_count": 35,
   "metadata": {
    "scrolled": true
   },
   "outputs": [],
   "source": [
    "### TODO: Load the model weights with the best validation loss.\n",
    "Xception_model.load_weights('saved_models/weights.best.Xception.hdf5')"
   ]
  },
  {
   "cell_type": "markdown",
   "metadata": {},
   "source": [
    "### (IMPLEMENTATION) Test the Model\n",
    "\n",
    "Try out your model on the test dataset of dog images. Ensure that your test accuracy is greater than 60%."
   ]
  },
  {
   "cell_type": "code",
   "execution_count": 36,
   "metadata": {
    "scrolled": true
   },
   "outputs": [
    {
     "name": "stdout",
     "output_type": "stream",
     "text": [
      "Test accuracy: 84.9282%\n"
     ]
    }
   ],
   "source": [
    "### TODO: Calculate classification accuracy on the test dataset.\n",
    "from extract_bottleneck_features import extract_Xception\n",
    "\n",
    "predictions = [np.argmax(Xception_model.predict(np.expand_dims(feature, axis=0))) for feature in test_Xception]\n",
    "\n",
    "# report test accuracy\n",
    "test_accuracy = 100*np.sum(np.array(predictions)==np.argmax(test_targets, axis=1))/len(predictions)\n",
    "print('Test accuracy: %.4f%%' % test_accuracy)"
   ]
  },
  {
   "cell_type": "markdown",
   "metadata": {},
   "source": [
    "### (IMPLEMENTATION) Predict Dog Breed with the Model\n",
    "\n",
    "Write a function that takes an image path as input and returns the dog breed (`Affenpinscher`, `Afghan_hound`, etc) that is predicted by your model.  \n",
    "\n",
    "Similar to the analogous function in Step 5, your function should have three steps:\n",
    "1. Extract the bottleneck features corresponding to the chosen CNN model.\n",
    "2. Supply the bottleneck features as input to the model to return the predicted vector.  Note that the argmax of this prediction vector gives the index of the predicted dog breed.\n",
    "3. Use the `dog_names` array defined in Step 0 of this notebook to return the corresponding breed.\n",
    "\n",
    "The functions to extract the bottleneck features can be found in `extract_bottleneck_features.py`, and they have been imported in an earlier code cell.  To obtain the bottleneck features corresponding to your chosen CNN architecture, you need to use the function\n",
    "\n",
    "    extract_{network}\n",
    "    \n",
    "where `{network}`, in the above filename, should be one of `VGG19`, `Resnet50`, `InceptionV3`, or `Xception`."
   ]
  },
  {
   "cell_type": "code",
   "execution_count": 37,
   "metadata": {
    "scrolled": true
   },
   "outputs": [
    {
     "name": "stdout",
     "output_type": "stream",
     "text": [
      "Downloading data from https://github.com/fchollet/deep-learning-models/releases/download/v0.4/xception_weights_tf_dim_ordering_tf_kernels_notop.h5\n",
      "83689472/83683744 [==============================] - 1s 0us/step\n"
     ]
    },
    {
     "data": {
      "text/plain": [
       "'ages/train/057.Dalmatian'"
      ]
     },
     "execution_count": 37,
     "metadata": {},
     "output_type": "execute_result"
    }
   ],
   "source": [
    "### TODO: Write a function that takes a path to an image as input\n",
    "### and returns the dog breed that is predicted by the model.\n",
    "\n",
    "def Xception_predict_breed(img_path):\n",
    "    \"\"\"\n",
    "    Predict dog breed by loading an image, extracting bottleneck features,\n",
    "    run inference with these features, and convert the argmax to the\n",
    "    dog breed as a string\n",
    "    \n",
    "    img_path: path to the image of interest\n",
    "    \n",
    "    \"\"\"\n",
    "    bottleneck_feature = extract_Xception(path_to_tensor(img_path))\n",
    "    predicted_vector = Xception_model.predict(bottleneck_feature)\n",
    "    return dog_names[np.argmax(predicted_vector)]\n",
    "\n",
    "Xception_predict_breed(test_files[0])"
   ]
  },
  {
   "cell_type": "markdown",
   "metadata": {},
   "source": [
    "---\n",
    "<a id='step6'></a>\n",
    "## Step 6: Write your Algorithm\n",
    "\n",
    "Write an algorithm that accepts a file path to an image and first determines whether the image contains a human, dog, or neither.  Then,\n",
    "- if a __dog__ is detected in the image, return the predicted breed.\n",
    "- if a __human__ is detected in the image, return the resembling dog breed.\n",
    "- if __neither__ is detected in the image, provide output that indicates an error.\n",
    "\n",
    "You are welcome to write your own functions for detecting humans and dogs in images, but feel free to use the `face_detector` and `dog_detector` functions developed above.  You are __required__ to use your CNN from Step 5 to predict dog breed.  \n",
    "\n",
    "A sample image and output for our algorithm is provided below, but feel free to design your own user experience!\n",
    "\n",
    "![Sample Human Output](images/sample_human_2.png)\n",
    "\n",
    "This photo looks like an Afghan Hound.\n",
    "### (IMPLEMENTATION) Write your Algorithm"
   ]
  },
  {
   "cell_type": "code",
   "execution_count": 38,
   "metadata": {
    "scrolled": true
   },
   "outputs": [],
   "source": [
    "### TODO: Write your algorithm.\n",
    "### Feel free to use as many code cells as needed.\n",
    "\n",
    "def algorithm(img_path):\n",
    "    if dog_detector(img_path):\n",
    "        species = 'dog'              \n",
    "        output = Xception_predict_breed(img_path)\n",
    "    elif face_detector(img_path):\n",
    "        species = 'human'\n",
    "        output = Xception_predict_breed(img_path)\n",
    "    else:\n",
    "        species = 'neither a dog nor a human'\n",
    "        output = 'Error'\n",
    "    return species, output\n",
    "\n",
    "def provide_output(input_path):\n",
    "    species, breed = algorithm(input_path)\n",
    "    print(f'Hello there! You look like a {species} to me!')\n",
    "    if breed != 'Error':\n",
    "        formatted = breed.split('.')[-1].replace(\"_\", \" \")\n",
    "        print(f\"You look like a {formatted}\")\n",
    "    else:\n",
    "        print(\"Since I can't tell what you are, I won't insult you by guessing. Have a nice day!\")"
   ]
  },
  {
   "cell_type": "markdown",
   "metadata": {},
   "source": [
    "---\n",
    "<a id='step7'></a>\n",
    "## Step 7: Test Your Algorithm\n",
    "\n",
    "In this section, you will take your new algorithm for a spin!  What kind of dog does the algorithm think that __you__ look like?  If you have a dog, does it predict your dog's breed accurately?  If you have a cat, does it mistakenly think that your cat is a dog?\n",
    "\n",
    "### (IMPLEMENTATION) Test Your Algorithm on Sample Images!\n",
    "\n",
    "Test your algorithm at least six images on your computer.  Feel free to use any images you like.  Use at least two human and two dog images.  \n",
    "\n",
    "__Question 6:__ Is the output better than you expected :) ?  Or worse :( ?  Provide at least three possible points of improvement for your algorithm.\n",
    "\n",
    "__Answer:__ The output works pretty well. It made some incorrect classifications e.g. predicted golden retriever was a german pinscher and bluetick coonhound as a pointer. To improve the model, it would be advisable to:\n",
    "\n",
    "1. Train for longer,\n",
    "2. Get more training data, or\n",
    "3. Train with data augmentation of raw images "
   ]
  },
  {
   "cell_type": "code",
   "execution_count": 39,
   "metadata": {
    "scrolled": true
   },
   "outputs": [
    {
     "name": "stdout",
     "output_type": "stream",
     "text": [
      "\n",
      "Actual breed: Chihuahua\n",
      "Hello there! You look like a dog to me!\n",
      "You look like a Chihuahua\n",
      "\n",
      "Actual breed: Japanese chin\n",
      "Hello there! You look like a dog to me!\n",
      "You look like a Japanese chin\n",
      "\n",
      "Actual breed: Australian shepherd\n",
      "Hello there! You look like a dog to me!\n",
      "You look like a Nova scotia duck tolling retriever\n",
      "\n",
      "Actual breed: Field spaniel\n",
      "Hello there! You look like a dog to me!\n",
      "You look like a Field spaniel\n",
      "\n",
      "Actual breed: Norfolk terrier\n",
      "Hello there! You look like a dog to me!\n",
      "You look like a Norfolk terrier\n",
      "\n",
      "Actual breed: Afghan hound\n",
      "Hello there! You look like a dog to me!\n",
      "You look like a Afghan hound\n"
     ]
    },
    {
     "data": {
      "image/png": "[encoded data removed]",
      "text/plain": [
       "<matplotlib.figure.Figure at 0x7fb3876455f8>"
      ]
     },
     "metadata": {
      "needs_background": "light"
     },
     "output_type": "display_data"
    }
   ],
   "source": [
    "## TODO: Execute your algorithm from Step 6 on\n",
    "## at least 6 images on your computer.\n",
    "## Feel free to use as many code cells as needed.\n",
    "random.shuffle(test_files)\n",
    "\n",
    "for i in range(6):\n",
    "    path = test_files[i]\n",
    "    breed = [s for s in path.split('/')[-1].split('_') if not s.startswith('0') and not s.startswith('1')]\n",
    "    breed = \" \".join(breed)\n",
    "    print(f\"\\nActual breed: {breed}\")\n",
    "    plt.title(f\"Image {i+1}\")\n",
    "    plt.subplot(2,3,i+1)\n",
    "    plt.imshow(cv2.imread(path))\n",
    "    plt.axis(\"off\")\n",
    "    provide_output(path)"
   ]
  },
  {
   "cell_type": "code",
   "execution_count": 40,
   "metadata": {},
   "outputs": [
    {
     "data": {
      "text/plain": [
       "0"
      ]
     },
     "execution_count": 40,
     "metadata": {},
     "output_type": "execute_result"
    }
   ],
   "source": [
    "# save notebook as html\n",
    "from subprocess import call\n",
    "call(['python', '-m', 'nbconvert', 'dog_app.ipynb'])"
   ]
  }
 ],
 "metadata": {
  "anaconda-cloud": {},
  "kernelspec": {
   "display_name": "Python 3",
   "language": "python",
   "name": "python3"
  },
  "language_info": {
   "codemirror_mode": {
    "name": "ipython",
    "version": 3
   },
   "file_extension": ".py",
   "mimetype": "text/x-python",
   "name": "python",
   "nbconvert_exporter": "python",
   "pygments_lexer": "ipython3",
   "version": "3.6.3"
  }
 },
 "nbformat": 4,
 "nbformat_minor": 1
}
